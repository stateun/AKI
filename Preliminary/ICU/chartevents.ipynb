{
 "cells": [
  {
   "cell_type": "markdown",
   "metadata": {},
   "source": [
    "# diagnoses_icd"
   ]
  },
  {
   "cell_type": "code",
   "execution_count": 1,
   "metadata": {},
   "outputs": [],
   "source": [
    "import pandas as pd"
   ]
  },
  {
   "cell_type": "code",
   "execution_count": 2,
   "metadata": {},
   "outputs": [],
   "source": [
    "diagnoses = pd.read_csv('/data/share/AKI/3.0/hosp/diagnoses_icd.csv.gz', compression = 'gzip')"
   ]
  },
  {
   "cell_type": "code",
   "execution_count": null,
   "metadata": {},
   "outputs": [],
   "source": [
    "diagnoses.columns"
   ]
  },
  {
   "cell_type": "code",
   "execution_count": null,
   "metadata": {},
   "outputs": [],
   "source": [
    "print(diagnoses.head(10))\n",
    "print('-----------------')\n",
    "print(diagnoses.shape)"
   ]
  },
  {
   "cell_type": "code",
   "execution_count": 5,
   "metadata": {},
   "outputs": [],
   "source": [
    "target_value = ['5845', '5846', '5847', '5848', '5849', '66930', '66932', '66934', 'N17', 'N170', 'N171', 'N172', 'N178', 'N179', 'Q904']"
   ]
  },
  {
   "cell_type": "code",
   "execution_count": 6,
   "metadata": {},
   "outputs": [],
   "source": [
    "diagnoses = diagnoses.drop(['seq_num', 'icd_version'], axis = 1)"
   ]
  },
  {
   "cell_type": "code",
   "execution_count": null,
   "metadata": {},
   "outputs": [],
   "source": [
    "diagnoses['target'] = diagnoses['icd_code'].apply(lambda x : 1 if x in target_value else 0)\n",
    "diagnoses['target'].value_counts() \n",
    "\"\"\"\n",
    "without AKI 0.99\n",
    "with AKI 0.01\n",
    "\"\"\""
   ]
  },
  {
   "cell_type": "code",
   "execution_count": 8,
   "metadata": {},
   "outputs": [],
   "source": [
    "aki_list = diagnoses[diagnoses['target'] == 1]['hadm_id'].unique()\n",
    "not_aki_list = diagnoses[diagnoses['target'] == 0]['hadm_id'].unique()"
   ]
  },
  {
   "cell_type": "markdown",
   "metadata": {},
   "source": [
    "# Chartevents"
   ]
  },
  {
   "cell_type": "code",
   "execution_count": 9,
   "metadata": {},
   "outputs": [],
   "source": [
    "import gc\n",
    "import pandas as pd\n",
    "import os\n",
    "import numpy as np\n",
    "from tqdm import tqdm\n",
    "import datetime\n",
    "import matplotlib.pyplot as plt\n",
    "from statsmodels.stats.proportion import proportions_ztest\n",
    "\n",
    "icu_path = '/data/share/AKI/3.0/icu/'\n",
    "label_data = pd.read_csv('/home/stateun/aki_hadm.csv')\n",
    "\n",
    "label_subject = label_data['subject_id']\n",
    "label_hadm = label_data['hadm_id']\n",
    "label_aki = label_data['aki']"
   ]
  },
  {
   "cell_type": "code",
   "execution_count": 28,
   "metadata": {},
   "outputs": [],
   "source": [
    "filtered_chartevents = pd.read_csv('filtered_chartevents.csv', index_col = 0)"
   ]
  },
  {
   "cell_type": "code",
   "execution_count": null,
   "metadata": {},
   "outputs": [],
   "source": [
    "filtered_chartevents.columns"
   ]
  },
  {
   "cell_type": "code",
   "execution_count": 30,
   "metadata": {},
   "outputs": [],
   "source": [
    "filtered_chartevents = filtered_chartevents.drop([ 'charttime', 'storetime', 'value', 'warning'], axis= 1)"
   ]
  },
  {
   "cell_type": "code",
   "execution_count": null,
   "metadata": {},
   "outputs": [],
   "source": [
    "# Check the nan value\n",
    "sum(filtered_chartevents['value_numeric'].isna())"
   ]
  },
  {
   "cell_type": "code",
   "execution_count": null,
   "metadata": {},
   "outputs": [],
   "source": [
    "drop_index = filtered_chartevents[filtered_chartevents['value_numeric'].isna()].index\n",
    "drop_index"
   ]
  },
  {
   "cell_type": "code",
   "execution_count": null,
   "metadata": {},
   "outputs": [],
   "source": [
    "filtered_chartevents.drop(drop_index)"
   ]
  },
  {
   "cell_type": "code",
   "execution_count": null,
   "metadata": {},
   "outputs": [],
   "source": [
    "filtered_chartevents['value_numeric'].dtypes"
   ]
  },
  {
   "cell_type": "code",
   "execution_count": null,
   "metadata": {},
   "outputs": [],
   "source": [
    "plt.boxplot(filtered_chartevents[(filtered_chartevents['itemid'] == 220245)]['value_numeric'])"
   ]
  },
  {
   "cell_type": "code",
   "execution_count": 36,
   "metadata": {},
   "outputs": [],
   "source": [
    "aki_hadms = filtered_chartevents.loc[filtered_chartevents['hadm_id'].isin(aki_list)]['hadm_id'].unique().tolist()"
   ]
  },
  {
   "cell_type": "code",
   "execution_count": 38,
   "metadata": {},
   "outputs": [],
   "source": [
    "hadm_ids = filtered_chartevents.hadm_id.unique().tolist()\n",
    "aki_hadms_set = set(aki_hadms)\n",
    "hadm_aki_dict = {'hadm_id' : hadm_ids, 'aki':[int(h in aki_hadms_set) for h in hadm_ids]}\n",
    "hadm_aki_df = pd.DataFrame(hadm_aki_dict)"
   ]
  },
  {
   "cell_type": "code",
   "execution_count": 39,
   "metadata": {},
   "outputs": [],
   "source": [
    "chartevents_icd = filtered_chartevents[['subject_id', 'hadm_id']].drop_duplicates()\n",
    "hadm_to_subject = {str(h):s for s, h in zip(chartevents_icd.subject_id.tolist(), chartevents_icd.hadm_id.tolist())}\n",
    "aki_subject = [s for h, s in hadm_to_subject.items() if int(h) in aki_hadms_set]"
   ]
  },
  {
   "cell_type": "code",
   "execution_count": 40,
   "metadata": {},
   "outputs": [],
   "source": [
    "# Simple code\n",
    "aki_subject = filtered_chartevents[filtered_chartevents['hadm_id'].isin(aki_list)]['subject_id'].tolist()"
   ]
  },
  {
   "cell_type": "code",
   "execution_count": 41,
   "metadata": {},
   "outputs": [],
   "source": [
    "aki_subject_set = set(aki_subject)"
   ]
  },
  {
   "cell_type": "code",
   "execution_count": null,
   "metadata": {},
   "outputs": [],
   "source": [
    "aki_first_prev_hadm = []\n",
    "aki_last_prev_hadm = []\n",
    "aki_subject_for_check = []\n",
    "for key, df in tqdm(chartevents_icd.groupby(by = ['subject_id'])):\n",
    "    had_aki = list(set(df.hadm_id).intersection(aki_hadms_set))\n",
    "    if had_aki:\n",
    "        first_h = np.array(had_aki).min()\n",
    "        last_h = np.array(had_aki).max()\n",
    "        first_prev_h = df.loc[df.hadm_id <= first_h, 'hadm_id'].tolist()\n",
    "        last_prev_h = df.loc[df.hadm_id <= last_h, 'hadm_id'].tolist()\n",
    "        aki_first_prev_hadm.extend(first_prev_h)\n",
    "        aki_last_prev_hadm.append(last_prev_h)\n",
    "        aki_subject_for_check.append(key)"
   ]
  },
  {
   "cell_type": "code",
   "execution_count": 44,
   "metadata": {},
   "outputs": [],
   "source": [
    "from statsmodels.stats.proportion import proportions_ztest"
   ]
  },
  {
   "cell_type": "code",
   "execution_count": 45,
   "metadata": {},
   "outputs": [],
   "source": [
    "def do_everything4(filtered_df, colname, aki_last_prev_hadm, aki_subject_set):\n",
    "    # Remove rows with null 'hadm_id'\n",
    "    filtered_df = filtered_df.dropna(subset=['hadm_id'])\n",
    "    n_aki_hadms = filtered_df['hadm_id'].isin(aki_last_prev_hadm).sum()\n",
    "    n_hadms = filtered_df['hadm_id'].nunique()\n",
    "    print(f'# unique AKI hadms: {n_aki_hadms}\\n# unique hadms: {n_hadms}')\n",
    "\n",
    "    # Initialize dictionaries to store counts\n",
    "    res_counts = {}\n",
    "    aki_res_counts = {}\n",
    "\n",
    "    # Group by 'subject_id' and 'hadm_id'\n",
    "    grouped = filtered_df.groupby(['subject_id', 'hadm_id'])\n",
    "\n",
    "    for (subject_id, _), h_df in grouped:\n",
    "        is_aki_subject = subject_id in aki_subject_set\n",
    "        codes = h_df[colname].unique()\n",
    "\n",
    "        # Update overall counts\n",
    "        for code in codes:\n",
    "            res_counts[code] = res_counts.get(code, 0) + 1\n",
    "            if is_aki_subject:\n",
    "                aki_res_counts[code] = aki_res_counts.get(code, 0) + 1\n",
    "\n",
    "    code_test_pval = {}\n",
    "    print('Calculating p-values for each code...')\n",
    "\n",
    "    for code in aki_res_counts:\n",
    "        count = [aki_res_counts.get(code, 0), res_counts[code] - aki_res_counts.get(code, 0)]\n",
    "        nobs = [n_aki_hadms, n_hadms - n_aki_hadms]\n",
    "\n",
    "        if all(nobs) and all(count):\n",
    "            _, pval = proportions_ztest(count, nobs)\n",
    "            code_test_pval[code] = pval\n",
    "        elif count[1] == 0:\n",
    "            code_test_pval[code] = 0\n",
    "        else:\n",
    "            print(f'Code {code} has zero counts in AKI group.')\n",
    "\n",
    "    aki_code_top = {code for code, pval in code_test_pval.items() if pval < 0.05}\n",
    "    print(f'There are {len(aki_code_top)} codes with p-value < 0.05.')\n",
    "\n",
    "    # Filter codes with counts higher than the mean\n",
    "    mean_count = sum(res_counts.values()) / len(res_counts)\n",
    "    code_top = {code for code, count in res_counts.items() if count > mean_count}\n",
    "    print(f'# codes with counts higher than the mean: {len(code_top)}')\n",
    "\n",
    "    # Final selection\n",
    "    final_aki_code_top = aki_code_top & code_top\n",
    "    print(f'Finally, we have {len(final_aki_code_top)} codes to maintain.')\n",
    "\n",
    "    return list(final_aki_code_top)\n",
    "\n",
    "def do_everything4_2(df, colname, val_colname, fact):\n",
    "    # Prepare data\n",
    "    print('\\nCreating new DataFrame...')\n",
    "    df = df[['subject_id', 'hadm_id', colname, val_colname]]\n",
    "    df = df[df[colname].isin(fact)]\n",
    "\n",
    "    # Calculate mean values for each code per hadm_id\n",
    "    grouped = df.groupby(['subject_id', 'hadm_id', colname])[val_colname].mean().reset_index()\n",
    "    pivot_df = grouped.pivot_table(\n",
    "        index=['subject_id', 'hadm_id'],\n",
    "        columns=colname,\n",
    "        values=val_colname,\n",
    "        fill_value=0\n",
    "    ).reset_index()\n",
    "\n",
    "    # Rename columns\n",
    "    prefix = input('Column name prefix: ')\n",
    "    pivot_df.columns = [\n",
    "        f'value_{prefix}_{col}' if col not in ['subject_id', 'hadm_id'] else col\n",
    "        for col in pivot_df.columns\n",
    "    ]\n",
    "\n",
    "    return pivot_df\n"
   ]
  },
  {
   "cell_type": "code",
   "execution_count": null,
   "metadata": {},
   "outputs": [],
   "source": [
    "fact = do_everything4(filtered_chartevents, 'itemid', aki_last_prev_hadm = aki_last_prev_hadm, aki_subject_set = aki_subject_set)\n",
    "del filtered_chartevents; gc.collect()"
   ]
  },
  {
   "cell_type": "code",
   "execution_count": 48,
   "metadata": {},
   "outputs": [],
   "source": [
    "import pickle\n",
    "\n",
    "with open('fact_pickle.pkl', 'wb') as f:\n",
    "    pickle.dump(fact, f)"
   ]
  },
  {
   "cell_type": "code",
   "execution_count": 49,
   "metadata": {},
   "outputs": [],
   "source": [
    "with open('fact_pickle.pkl', 'rb') as f:\n",
    "    fact = pickle.load(f)"
   ]
  },
  {
   "cell_type": "code",
   "execution_count": null,
   "metadata": {},
   "outputs": [],
   "source": [
    "df = pd.read_csv('chartevents.csv')"
   ]
  },
  {
   "cell_type": "code",
   "execution_count": null,
   "metadata": {},
   "outputs": [],
   "source": [
    "final_df = do_everything4_2(df, 'itemid','value_numeric', fact)"
   ]
  },
  {
   "cell_type": "code",
   "execution_count": null,
   "metadata": {},
   "outputs": [],
   "source": [
    "final_df = do_everything4_2(df, 'itemid','value_numeric', fact)"
   ]
  },
  {
   "cell_type": "code",
   "execution_count": null,
   "metadata": {},
   "outputs": [],
   "source": [
    "final_df.to_csv('final_chartevents.csv')"
   ]
  }
 ],
 "metadata": {
  "kernelspec": {
   "display_name": "latest",
   "language": "python",
   "name": "python3"
  },
  "language_info": {
   "codemirror_mode": {
    "name": "ipython",
    "version": 3
   },
   "file_extension": ".py",
   "mimetype": "text/x-python",
   "name": "python",
   "nbconvert_exporter": "python",
   "pygments_lexer": "ipython3",
   "version": "3.9.7"
  }
 },
 "nbformat": 4,
 "nbformat_minor": 2
}
