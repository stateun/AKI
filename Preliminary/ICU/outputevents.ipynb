{
 "cells": [
  {
   "cell_type": "markdown",
   "metadata": {},
   "source": [
    "# diagnoses_icd"
   ]
  },
  {
   "cell_type": "code",
   "execution_count": 2,
   "metadata": {},
   "outputs": [],
   "source": [
    "import pandas as pd"
   ]
  },
  {
   "cell_type": "code",
   "execution_count": 3,
   "metadata": {},
   "outputs": [],
   "source": [
    "diagnoses = pd.read_csv('/data/share/AKI/3.0/hosp/diagnoses_icd.csv.gz', compression = 'gzip')"
   ]
  },
  {
   "cell_type": "code",
   "execution_count": 4,
   "metadata": {},
   "outputs": [
    {
     "data": {
      "text/plain": [
       "Index(['subject_id', 'hadm_id', 'seq_num', 'icd_code', 'icd_version'], dtype='object')"
      ]
     },
     "execution_count": 4,
     "metadata": {},
     "output_type": "execute_result"
    }
   ],
   "source": [
    "diagnoses.columns"
   ]
  },
  {
   "cell_type": "code",
   "execution_count": 5,
   "metadata": {},
   "outputs": [
    {
     "name": "stdout",
     "output_type": "stream",
     "text": [
      "   subject_id   hadm_id  seq_num icd_code  icd_version\n",
      "0    10000032  22595853        1     5723            9\n",
      "1    10000032  22595853        2    78959            9\n",
      "2    10000032  22595853        3     5715            9\n",
      "3    10000032  22595853        4    07070            9\n",
      "4    10000032  22595853        5      496            9\n",
      "5    10000032  22595853        6    29680            9\n",
      "6    10000032  22595853        7    30981            9\n",
      "7    10000032  22595853        8    V1582            9\n",
      "8    10000032  22841357        1    07071            9\n",
      "9    10000032  22841357        2    78959            9\n",
      "-----------------\n",
      "(6364520, 5)\n"
     ]
    }
   ],
   "source": [
    "print(diagnoses.head(10))\n",
    "print('-----------------')\n",
    "print(diagnoses.shape)"
   ]
  },
  {
   "cell_type": "code",
   "execution_count": 6,
   "metadata": {},
   "outputs": [],
   "source": [
    "target_value = ['5845', '5846', '5847', '5848', '5849', '66930', '66932', '66934', 'N17', 'N170', 'N171', 'N172', 'N178', 'N179', 'Q904']"
   ]
  },
  {
   "cell_type": "code",
   "execution_count": 7,
   "metadata": {},
   "outputs": [],
   "source": [
    "diagnoses = diagnoses.drop(['seq_num', 'icd_version'], axis = 1)"
   ]
  },
  {
   "cell_type": "code",
   "execution_count": 8,
   "metadata": {},
   "outputs": [
    {
     "data": {
      "text/plain": [
       "'\\nwithout AKI 0.99\\nwith AKI 0.01\\n'"
      ]
     },
     "execution_count": 8,
     "metadata": {},
     "output_type": "execute_result"
    }
   ],
   "source": [
    "diagnoses['target'] = diagnoses['icd_code'].apply(lambda x : 1 if x in target_value else 0)\n",
    "diagnoses['target'].value_counts() \n",
    "\"\"\"\n",
    "without AKI 0.99\n",
    "with AKI 0.01\n",
    "\"\"\""
   ]
  },
  {
   "cell_type": "code",
   "execution_count": 9,
   "metadata": {},
   "outputs": [],
   "source": [
    "aki_list = diagnoses[diagnoses['target'] == 1]['hadm_id'].unique()\n",
    "not_aki_list = diagnoses[diagnoses['target'] == 0]['hadm_id'].unique()"
   ]
  },
  {
   "cell_type": "markdown",
   "metadata": {},
   "source": [
    "# Outputevents"
   ]
  },
  {
   "cell_type": "code",
   "execution_count": 10,
   "metadata": {},
   "outputs": [],
   "source": [
    "import gc\n",
    "import pandas as pd\n",
    "import os\n",
    "import numpy as np\n",
    "from tqdm import tqdm\n",
    "import datetime\n",
    "import matplotlib.pyplot as plt\n",
    "from statsmodels.stats.proportion import proportions_ztest\n",
    "\n",
    "icu_path = '/data/share/AKI/3.0/icu/'\n",
    "label_data = pd.read_csv('/home/stateun/aki_hadm.csv')\n",
    "\n",
    "label_subject = label_data['subject_id']\n",
    "label_hadm = label_data['hadm_id']\n",
    "label_aki = label_data['aki']"
   ]
  },
  {
   "cell_type": "code",
   "execution_count": 11,
   "metadata": {},
   "outputs": [],
   "source": [
    "outputevents = pd.read_csv('/data/share/AKI/3.0/icu/outputevents.csv.gz', compression = 'gzip')"
   ]
  },
  {
   "cell_type": "code",
   "execution_count": 14,
   "metadata": {},
   "outputs": [
    {
     "data": {
      "text/plain": [
       "Index(['subject_id', 'hadm_id', 'itemid', 'value'], dtype='object')"
      ]
     },
     "execution_count": 14,
     "metadata": {},
     "output_type": "execute_result"
    }
   ],
   "source": [
    "outputevents.columns"
   ]
  },
  {
   "cell_type": "code",
   "execution_count": 15,
   "metadata": {},
   "outputs": [
    {
     "data": {
      "text/plain": [
       "0"
      ]
     },
     "execution_count": 15,
     "metadata": {},
     "output_type": "execute_result"
    }
   ],
   "source": [
    "# Check the nan value\n",
    "sum(outputevents['value'].isna())"
   ]
  },
  {
   "cell_type": "code",
   "execution_count": 16,
   "metadata": {},
   "outputs": [
    {
     "data": {
      "text/html": [
       "<div>\n",
       "<style scoped>\n",
       "    .dataframe tbody tr th:only-of-type {\n",
       "        vertical-align: middle;\n",
       "    }\n",
       "\n",
       "    .dataframe tbody tr th {\n",
       "        vertical-align: top;\n",
       "    }\n",
       "\n",
       "    .dataframe thead th {\n",
       "        text-align: right;\n",
       "    }\n",
       "</style>\n",
       "<table border=\"1\" class=\"dataframe\">\n",
       "  <thead>\n",
       "    <tr style=\"text-align: right;\">\n",
       "      <th></th>\n",
       "      <th>itemid</th>\n",
       "      <th>min</th>\n",
       "      <th>max</th>\n",
       "      <th>mean</th>\n",
       "      <th>Q1-1.5*IQR</th>\n",
       "      <th>Q3+1.5*IQR</th>\n",
       "    </tr>\n",
       "  </thead>\n",
       "  <tbody>\n",
       "    <tr>\n",
       "      <th>0</th>\n",
       "      <td>226557</td>\n",
       "      <td>0.0</td>\n",
       "      <td>1100.0</td>\n",
       "      <td>103.252874</td>\n",
       "      <td>-137.5</td>\n",
       "      <td>282.5</td>\n",
       "    </tr>\n",
       "    <tr>\n",
       "      <th>1</th>\n",
       "      <td>226558</td>\n",
       "      <td>0.0</td>\n",
       "      <td>1000.0</td>\n",
       "      <td>102.426778</td>\n",
       "      <td>-75.0</td>\n",
       "      <td>205.0</td>\n",
       "    </tr>\n",
       "    <tr>\n",
       "      <th>2</th>\n",
       "      <td>226559</td>\n",
       "      <td>-3765.0</td>\n",
       "      <td>30331.0</td>\n",
       "      <td>122.120143</td>\n",
       "      <td>-125.0</td>\n",
       "      <td>315.0</td>\n",
       "    </tr>\n",
       "    <tr>\n",
       "      <th>3</th>\n",
       "      <td>226560</td>\n",
       "      <td>-1.0</td>\n",
       "      <td>876587.0</td>\n",
       "      <td>302.117372</td>\n",
       "      <td>-225.0</td>\n",
       "      <td>775.0</td>\n",
       "    </tr>\n",
       "    <tr>\n",
       "      <th>4</th>\n",
       "      <td>226561</td>\n",
       "      <td>-9.0</td>\n",
       "      <td>5000.0</td>\n",
       "      <td>267.503018</td>\n",
       "      <td>-212.5</td>\n",
       "      <td>687.5</td>\n",
       "    </tr>\n",
       "    <tr>\n",
       "      <th>5</th>\n",
       "      <td>226563</td>\n",
       "      <td>0.0</td>\n",
       "      <td>3200.0</td>\n",
       "      <td>131.636618</td>\n",
       "      <td>-130.0</td>\n",
       "      <td>350.0</td>\n",
       "    </tr>\n",
       "    <tr>\n",
       "      <th>6</th>\n",
       "      <td>226564</td>\n",
       "      <td>0.0</td>\n",
       "      <td>3500.0</td>\n",
       "      <td>161.216968</td>\n",
       "      <td>-212.5</td>\n",
       "      <td>487.5</td>\n",
       "    </tr>\n",
       "    <tr>\n",
       "      <th>7</th>\n",
       "      <td>226565</td>\n",
       "      <td>0.0</td>\n",
       "      <td>1200.0</td>\n",
       "      <td>158.147436</td>\n",
       "      <td>-212.5</td>\n",
       "      <td>487.5</td>\n",
       "    </tr>\n",
       "    <tr>\n",
       "      <th>8</th>\n",
       "      <td>226567</td>\n",
       "      <td>-1.0</td>\n",
       "      <td>3000.0</td>\n",
       "      <td>520.303105</td>\n",
       "      <td>-175.0</td>\n",
       "      <td>1225.0</td>\n",
       "    </tr>\n",
       "    <tr>\n",
       "      <th>9</th>\n",
       "      <td>226569</td>\n",
       "      <td>0.0</td>\n",
       "      <td>650.0</td>\n",
       "      <td>150.578947</td>\n",
       "      <td>-225.0</td>\n",
       "      <td>455.0</td>\n",
       "    </tr>\n",
       "    <tr>\n",
       "      <th>10</th>\n",
       "      <td>226570</td>\n",
       "      <td>0.0</td>\n",
       "      <td>3000.0</td>\n",
       "      <td>222.882759</td>\n",
       "      <td>-300.0</td>\n",
       "      <td>580.0</td>\n",
       "    </tr>\n",
       "    <tr>\n",
       "      <th>11</th>\n",
       "      <td>226571</td>\n",
       "      <td>0.0</td>\n",
       "      <td>4000.0</td>\n",
       "      <td>146.105053</td>\n",
       "      <td>-175.0</td>\n",
       "      <td>425.0</td>\n",
       "    </tr>\n",
       "    <tr>\n",
       "      <th>12</th>\n",
       "      <td>226572</td>\n",
       "      <td>0.0</td>\n",
       "      <td>700.0</td>\n",
       "      <td>245.588235</td>\n",
       "      <td>-200.0</td>\n",
       "      <td>600.0</td>\n",
       "    </tr>\n",
       "    <tr>\n",
       "      <th>13</th>\n",
       "      <td>226573</td>\n",
       "      <td>0.0</td>\n",
       "      <td>3000.0</td>\n",
       "      <td>169.267594</td>\n",
       "      <td>-212.5</td>\n",
       "      <td>487.5</td>\n",
       "    </tr>\n",
       "    <tr>\n",
       "      <th>14</th>\n",
       "      <td>226574</td>\n",
       "      <td>0.0</td>\n",
       "      <td>1700.0</td>\n",
       "      <td>99.652642</td>\n",
       "      <td>-195.0</td>\n",
       "      <td>325.0</td>\n",
       "    </tr>\n",
       "    <tr>\n",
       "      <th>15</th>\n",
       "      <td>226575</td>\n",
       "      <td>-50.0</td>\n",
       "      <td>1098560.0</td>\n",
       "      <td>206.439691</td>\n",
       "      <td>-242.5</td>\n",
       "      <td>537.5</td>\n",
       "    </tr>\n",
       "    <tr>\n",
       "      <th>16</th>\n",
       "      <td>226576</td>\n",
       "      <td>-100.0</td>\n",
       "      <td>7200.0</td>\n",
       "      <td>154.250911</td>\n",
       "      <td>-175.0</td>\n",
       "      <td>425.0</td>\n",
       "    </tr>\n",
       "    <tr>\n",
       "      <th>17</th>\n",
       "      <td>226579</td>\n",
       "      <td>-800.0</td>\n",
       "      <td>4000.0</td>\n",
       "      <td>304.586290</td>\n",
       "      <td>-350.0</td>\n",
       "      <td>850.0</td>\n",
       "    </tr>\n",
       "    <tr>\n",
       "      <th>18</th>\n",
       "      <td>226580</td>\n",
       "      <td>-1000.0</td>\n",
       "      <td>3600.0</td>\n",
       "      <td>354.513700</td>\n",
       "      <td>-500.0</td>\n",
       "      <td>1100.0</td>\n",
       "    </tr>\n",
       "    <tr>\n",
       "      <th>19</th>\n",
       "      <td>226582</td>\n",
       "      <td>0.0</td>\n",
       "      <td>3525.0</td>\n",
       "      <td>203.752380</td>\n",
       "      <td>-200.0</td>\n",
       "      <td>600.0</td>\n",
       "    </tr>\n",
       "  </tbody>\n",
       "</table>\n",
       "</div>"
      ],
      "text/plain": [
       "    itemid     min        max        mean  Q1-1.5*IQR  Q3+1.5*IQR\n",
       "0   226557     0.0     1100.0  103.252874      -137.5       282.5\n",
       "1   226558     0.0     1000.0  102.426778       -75.0       205.0\n",
       "2   226559 -3765.0    30331.0  122.120143      -125.0       315.0\n",
       "3   226560    -1.0   876587.0  302.117372      -225.0       775.0\n",
       "4   226561    -9.0     5000.0  267.503018      -212.5       687.5\n",
       "5   226563     0.0     3200.0  131.636618      -130.0       350.0\n",
       "6   226564     0.0     3500.0  161.216968      -212.5       487.5\n",
       "7   226565     0.0     1200.0  158.147436      -212.5       487.5\n",
       "8   226567    -1.0     3000.0  520.303105      -175.0      1225.0\n",
       "9   226569     0.0      650.0  150.578947      -225.0       455.0\n",
       "10  226570     0.0     3000.0  222.882759      -300.0       580.0\n",
       "11  226571     0.0     4000.0  146.105053      -175.0       425.0\n",
       "12  226572     0.0      700.0  245.588235      -200.0       600.0\n",
       "13  226573     0.0     3000.0  169.267594      -212.5       487.5\n",
       "14  226574     0.0     1700.0   99.652642      -195.0       325.0\n",
       "15  226575   -50.0  1098560.0  206.439691      -242.5       537.5\n",
       "16  226576  -100.0     7200.0  154.250911      -175.0       425.0\n",
       "17  226579  -800.0     4000.0  304.586290      -350.0       850.0\n",
       "18  226580 -1000.0     3600.0  354.513700      -500.0      1100.0\n",
       "19  226582     0.0     3525.0  203.752380      -200.0       600.0"
      ]
     },
     "execution_count": 16,
     "metadata": {},
     "output_type": "execute_result"
    }
   ],
   "source": [
    "\"\"\"\n",
    "Check the Outlier\n",
    "\"\"\"\n",
    "\n",
    "def compute_stats(group):\n",
    "    min_val = group.min()\n",
    "    max_val = group.max()\n",
    "    mean = group.mean()\n",
    "    q1 = group.quantile(0.25)\n",
    "    q3 = group.quantile(0.75)\n",
    "    iqr = q3 - q1\n",
    "    lower_fence = q1 - 1.5 * iqr\n",
    "    upper_fence = q3 + 1.5 * iqr\n",
    "    return pd.Series({'min': min_val, 'max': max_val,'mean' : mean, 'Q1-1.5*IQR' : lower_fence ,'Q3+1.5*IQR': upper_fence})\n",
    "\n",
    "stats = outputevents.groupby('itemid')['value'].apply(compute_stats).unstack().reset_index()\n",
    "stats.head(20)"
   ]
  },
  {
   "cell_type": "code",
   "execution_count": 17,
   "metadata": {},
   "outputs": [
    {
     "data": {
      "text/plain": [
       "{'whiskers': [<matplotlib.lines.Line2D at 0x7fcdca4b14f0>,\n",
       "  <matplotlib.lines.Line2D at 0x7fcdca4b1790>],\n",
       " 'caps': [<matplotlib.lines.Line2D at 0x7fcdca4b1a30>,\n",
       "  <matplotlib.lines.Line2D at 0x7fcdca4b1cd0>],\n",
       " 'boxes': [<matplotlib.lines.Line2D at 0x7fcdca4b1250>],\n",
       " 'medians': [<matplotlib.lines.Line2D at 0x7fcdca4b1f70>],\n",
       " 'fliers': [<matplotlib.lines.Line2D at 0x7fcdca4de250>],\n",
       " 'means': []}"
      ]
     },
     "execution_count": 17,
     "metadata": {},
     "output_type": "execute_result"
    },
    {
     "data": {
      "image/png": "[encoded data removed]",
      "text/plain": [
       "<Figure size 640x480 with 1 Axes>"
      ]
     },
     "metadata": {},
     "output_type": "display_data"
    }
   ],
   "source": [
    "plt.boxplot(outputevents[(outputevents['itemid'] == 226560)]['value'])"
   ]
  },
  {
   "cell_type": "code",
   "execution_count": 18,
   "metadata": {},
   "outputs": [
    {
     "data": {
      "text/plain": [
       "{'whiskers': [<matplotlib.lines.Line2D at 0x7fcdde01e250>,\n",
       "  <matplotlib.lines.Line2D at 0x7fcdde01e4f0>],\n",
       " 'caps': [<matplotlib.lines.Line2D at 0x7fcdde01e790>,\n",
       "  <matplotlib.lines.Line2D at 0x7fcdde01ea30>],\n",
       " 'boxes': [<matplotlib.lines.Line2D at 0x7fcdde030f70>],\n",
       " 'medians': [<matplotlib.lines.Line2D at 0x7fcdde01ecd0>],\n",
       " 'fliers': [<matplotlib.lines.Line2D at 0x7fcdde01ef70>],\n",
       " 'means': []}"
      ]
     },
     "execution_count": 18,
     "metadata": {},
     "output_type": "execute_result"
    },
    {
     "data": {
      "image/png": "[encoded data removed]",
      "text/plain": [
       "<Figure size 640x480 with 1 Axes>"
      ]
     },
     "metadata": {},
     "output_type": "display_data"
    }
   ],
   "source": [
    "plt.boxplot(outputevents[(outputevents['itemid'] == 226560) & (outputevents['value'] < 200000)]['value'])"
   ]
  },
  {
   "cell_type": "code",
   "execution_count": 19,
   "metadata": {},
   "outputs": [
    {
     "name": "stderr",
     "output_type": "stream",
     "text": [
      "Processing chunks: 0it [00:00, ?it/s]"
     ]
    },
    {
     "name": "stderr",
     "output_type": "stream",
     "text": [
      "Processing chunks: 1it [00:05,  5.27s/it]"
     ]
    },
    {
     "name": "stdout",
     "output_type": "stream",
     "text": [
      "0-th preprocessing complete.\n"
     ]
    },
    {
     "name": "stderr",
     "output_type": "stream",
     "text": [
      "Processing chunks: 2it [00:10,  5.30s/it]"
     ]
    },
    {
     "name": "stdout",
     "output_type": "stream",
     "text": [
      "1-th preprocessing complete.\n"
     ]
    },
    {
     "name": "stderr",
     "output_type": "stream",
     "text": [
      "Processing chunks: 3it [00:15,  5.18s/it]"
     ]
    },
    {
     "name": "stdout",
     "output_type": "stream",
     "text": [
      "2-th preprocessing complete.\n"
     ]
    },
    {
     "name": "stderr",
     "output_type": "stream",
     "text": [
      "Processing chunks: 4it [00:20,  5.14s/it]"
     ]
    },
    {
     "name": "stdout",
     "output_type": "stream",
     "text": [
      "3-th preprocessing complete.\n"
     ]
    },
    {
     "name": "stderr",
     "output_type": "stream",
     "text": [
      "Processing chunks: 5it [00:25,  5.11s/it]"
     ]
    },
    {
     "name": "stdout",
     "output_type": "stream",
     "text": [
      "4-th preprocessing complete.\n"
     ]
    },
    {
     "name": "stderr",
     "output_type": "stream",
     "text": [
      "Processing chunks: 6it [00:27,  4.61s/it]"
     ]
    },
    {
     "name": "stdout",
     "output_type": "stream",
     "text": [
      "5-th preprocessing complete.\n"
     ]
    },
    {
     "name": "stderr",
     "output_type": "stream",
     "text": [
      "\n"
     ]
    }
   ],
   "source": [
    "\"\"\"\n",
    "Remove the Outlier\n",
    "\"\"\"\n",
    "\n",
    "outputevents = pd.read_csv(icu_path + 'outputevents.csv.gz', compression='gzip', chunksize=10**6)\n",
    "\n",
    "for i, chunk in enumerate(tqdm(outputevents, desc='Processing chunks')):\n",
    "\n",
    "    chunk = chunk.merge(stats[['itemid', 'Q1-1.5*IQR', 'Q3+1.5*IQR']], on='itemid', how='left')\n",
    "    chunk.head(5)\n",
    "\n",
    "    chunk.dropna(subset=['Q1-1.5*IQR', 'Q3+1.5*IQR'], inplace=True)\n",
    "\n",
    "    mask = (chunk['value'] >= chunk['Q1-1.5*IQR']) & (chunk['value'] <= chunk['Q3+1.5*IQR'])\n",
    "    chunk = chunk[mask]\n",
    "\n",
    "    chunk.drop(['Q1-1.5*IQR', 'Q3+1.5*IQR'], axis=1, inplace=True)\n",
    "\n",
    "    chunk.to_csv(f'preprocessing_outputevents_{i}.csv', index=False)\n",
    "    \n",
    "    print(f'{i}-th preprocessing complete.')\n",
    "\n",
    "    del chunk\n",
    "    gc.collect()"
   ]
  },
  {
   "cell_type": "code",
   "execution_count": 20,
   "metadata": {},
   "outputs": [
    {
     "data": {
      "text/html": [
       "<div>\n",
       "<style scoped>\n",
       "    .dataframe tbody tr th:only-of-type {\n",
       "        vertical-align: middle;\n",
       "    }\n",
       "\n",
       "    .dataframe tbody tr th {\n",
       "        vertical-align: top;\n",
       "    }\n",
       "\n",
       "    .dataframe thead th {\n",
       "        text-align: right;\n",
       "    }\n",
       "</style>\n",
       "<table border=\"1\" class=\"dataframe\">\n",
       "  <thead>\n",
       "    <tr style=\"text-align: right;\">\n",
       "      <th></th>\n",
       "      <th>itemid</th>\n",
       "      <th>min</th>\n",
       "      <th>max</th>\n",
       "      <th>mean</th>\n",
       "      <th>Q1-1.5*IQR</th>\n",
       "      <th>Q3+1.5*IQR</th>\n",
       "    </tr>\n",
       "  </thead>\n",
       "  <tbody>\n",
       "    <tr>\n",
       "      <th>0</th>\n",
       "      <td>226557</td>\n",
       "      <td>0.0</td>\n",
       "      <td>1100.0</td>\n",
       "      <td>103.252874</td>\n",
       "      <td>-137.5</td>\n",
       "      <td>282.5</td>\n",
       "    </tr>\n",
       "    <tr>\n",
       "      <th>1</th>\n",
       "      <td>226558</td>\n",
       "      <td>0.0</td>\n",
       "      <td>1000.0</td>\n",
       "      <td>102.426778</td>\n",
       "      <td>-75.0</td>\n",
       "      <td>205.0</td>\n",
       "    </tr>\n",
       "    <tr>\n",
       "      <th>2</th>\n",
       "      <td>226559</td>\n",
       "      <td>-3765.0</td>\n",
       "      <td>30331.0</td>\n",
       "      <td>122.120143</td>\n",
       "      <td>-125.0</td>\n",
       "      <td>315.0</td>\n",
       "    </tr>\n",
       "    <tr>\n",
       "      <th>3</th>\n",
       "      <td>226560</td>\n",
       "      <td>-1.0</td>\n",
       "      <td>876587.0</td>\n",
       "      <td>302.117372</td>\n",
       "      <td>-225.0</td>\n",
       "      <td>775.0</td>\n",
       "    </tr>\n",
       "    <tr>\n",
       "      <th>4</th>\n",
       "      <td>226561</td>\n",
       "      <td>-9.0</td>\n",
       "      <td>5000.0</td>\n",
       "      <td>267.503018</td>\n",
       "      <td>-212.5</td>\n",
       "      <td>687.5</td>\n",
       "    </tr>\n",
       "  </tbody>\n",
       "</table>\n",
       "</div>"
      ],
      "text/plain": [
       "   itemid     min       max        mean  Q1-1.5*IQR  Q3+1.5*IQR\n",
       "0  226557     0.0    1100.0  103.252874      -137.5       282.5\n",
       "1  226558     0.0    1000.0  102.426778       -75.0       205.0\n",
       "2  226559 -3765.0   30331.0  122.120143      -125.0       315.0\n",
       "3  226560    -1.0  876587.0  302.117372      -225.0       775.0\n",
       "4  226561    -9.0    5000.0  267.503018      -212.5       687.5"
      ]
     },
     "execution_count": 20,
     "metadata": {},
     "output_type": "execute_result"
    }
   ],
   "source": [
    "stats.head(5)"
   ]
  },
  {
   "cell_type": "code",
   "execution_count": 21,
   "metadata": {},
   "outputs": [
    {
     "name": "stdout",
     "output_type": "stream",
     "text": [
      "1/6번째 파일 처리 완료: preprocessing_outputevents_0.csv\n",
      "2/6번째 파일 처리 완료: preprocessing_outputevents_1.csv\n",
      "3/6번째 파일 처리 완료: preprocessing_outputevents_2.csv\n",
      "4/6번째 파일 처리 완료: preprocessing_outputevents_3.csv\n",
      "5/6번째 파일 처리 완료: preprocessing_outputevents_4.csv\n",
      "6/6번째 파일 처리 완료: preprocessing_outputevents_5.csv\n",
      "모든 파일이 성공적으로 병합되었습니다.\n"
     ]
    }
   ],
   "source": [
    "file_path = '/home/stateun/'\n",
    "output_file = '/home/stateun/outputevents.csv'\n",
    "\n",
    "for i in range(0,6):\n",
    "    file_name = f'preprocessing_outputevents_{i}.csv'\n",
    "    full_path = os.path.join(file_path, file_name)\n",
    "    \n",
    "    chunk = pd.read_csv(full_path)\n",
    "    if i == 1:\n",
    "        chunk.to_csv(output_file, mode='w', index=False)\n",
    "    else:\n",
    "        chunk.to_csv(output_file, mode='a', index=False, header=False)\n",
    "        \n",
    "    print(f'{i+1}/{6}번째 파일 처리 완료: {file_name}')\n",
    "    \n",
    "    try :\n",
    "        os.remove(full_path)\n",
    "    except Exception as e:\n",
    "        print(f'{file_name} 파일 삭제 중 오류 발생 : {e}')\n",
    "    \n",
    "print('모든 파일이 성공적으로 병합되었습니다.')"
   ]
  },
  {
   "cell_type": "code",
   "execution_count": 22,
   "metadata": {},
   "outputs": [],
   "source": [
    "outputevents = pd.read_csv('/home/stateun/outputevents.csv')"
   ]
  },
  {
   "cell_type": "code",
   "execution_count": 23,
   "metadata": {},
   "outputs": [],
   "source": [
    "aki_hadms = outputevents.loc[outputevents['hadm_id'].isin(aki_list)]['hadm_id'].unique().tolist()"
   ]
  },
  {
   "cell_type": "code",
   "execution_count": 24,
   "metadata": {},
   "outputs": [],
   "source": [
    "hadm_ids = outputevents.hadm_id.unique().tolist()\n",
    "aki_hadms_set = set(aki_hadms)\n",
    "hadm_aki_dict = {'hadm_id' : hadm_ids, 'aki':[int(h in aki_hadms_set) for h in hadm_ids]}\n",
    "hadm_aki_df = pd.DataFrame(hadm_aki_dict)"
   ]
  },
  {
   "cell_type": "code",
   "execution_count": 25,
   "metadata": {},
   "outputs": [],
   "source": [
    "# 1\n",
    "outputevents['aki'] = outputevents['hadm_id'].apply(lambda x : 1 if  x in aki_list else 0)"
   ]
  },
  {
   "cell_type": "code",
   "execution_count": 293,
   "metadata": {},
   "outputs": [],
   "source": [
    "# 2\n",
    "outputevents['aki'] = outputevents['hadm_id'].isin(aki_list).astype(int)"
   ]
  },
  {
   "cell_type": "code",
   "execution_count": 26,
   "metadata": {},
   "outputs": [],
   "source": [
    "outputevents_icd = outputevents[['subject_id', 'hadm_id']].drop_duplicates()\n",
    "hadm_to_subject = {str(h):s for s, h in zip(outputevents_icd.subject_id.tolist(), outputevents_icd.hadm_id.tolist())}\n",
    "aki_subject = [s for h, s in hadm_to_subject.items() if int(h) in aki_hadms_set]"
   ]
  },
  {
   "cell_type": "code",
   "execution_count": 27,
   "metadata": {},
   "outputs": [],
   "source": [
    "# Simple code\n",
    "aki_subject = outputevents[outputevents['hadm_id'].isin(aki_list)]['subject_id'].tolist()"
   ]
  },
  {
   "cell_type": "code",
   "execution_count": 28,
   "metadata": {},
   "outputs": [],
   "source": [
    "aki_subject_set = set(aki_subject)"
   ]
  },
  {
   "cell_type": "code",
   "execution_count": 29,
   "metadata": {},
   "outputs": [
    {
     "name": "stderr",
     "output_type": "stream",
     "text": [
      "  0%|          | 0/51990 [00:00<?, ?it/s]/usr/local/anaconda3/envs/latest/lib/python3.9/site-packages/tqdm/std.py:1195: FutureWarning: In a future version of pandas, a length 1 tuple will be returned when iterating over a groupby with a grouper equal to a list of length 1. Don't supply a list with a single grouper to avoid this warning.\n",
      "  for obj in iterable:\n",
      "100%|██████████| 51990/51990 [00:09<00:00, 5445.64it/s]\n"
     ]
    }
   ],
   "source": [
    "aki_first_prev_hadm = []\n",
    "aki_last_prev_hadm = []\n",
    "aki_subject_for_check = []\n",
    "for key, df in tqdm(outputevents_icd.groupby(by = ['subject_id'])):\n",
    "    had_aki = list(set(df.hadm_id).intersection(aki_hadms_set))\n",
    "    if had_aki:\n",
    "        first_h = np.array(had_aki).min()\n",
    "        last_h = np.array(had_aki).max()\n",
    "        first_prev_h = df.loc[df.hadm_id <= first_h, 'hadm_id'].tolist()\n",
    "        last_prev_h = df.loc[df.hadm_id <= last_h, 'hadm_id'].tolist()\n",
    "        aki_first_prev_hadm.extend(first_prev_h)\n",
    "        aki_last_prev_hadm.append(last_prev_h)\n",
    "        aki_subject_for_check.append(key)"
   ]
  },
  {
   "cell_type": "code",
   "execution_count": 30,
   "metadata": {},
   "outputs": [],
   "source": [
    "from statsmodels.stats.proportion import proportions_ztest"
   ]
  },
  {
   "cell_type": "code",
   "execution_count": 31,
   "metadata": {},
   "outputs": [],
   "source": [
    "def do_everything3(df, colname, val_colname):\n",
    "    # Exclude rows where 'hadm_id' is null\n",
    "    df = df.loc[~df['hadm_id'].isnull(), :]\n",
    "\n",
    "    # Create 'is_aki' column to identify AKI subjects\n",
    "    df['is_aki'] = df['subject_id'].isin(aki_subject_set)\n",
    "\n",
    "    # Calculate the number of unique hadm_ids\n",
    "    n_hadms = df['hadm_id'].nunique()\n",
    "    n_aki_hadms = df.loc[df['is_aki'], 'hadm_id'].nunique()\n",
    "    print(f'# unique aki hadms : {n_aki_hadms}\\n# unique hadms : {n_hadms}')\n",
    "\n",
    "    # Get unique combinations of 'hadm_id' and 'colname'\n",
    "    colname_hadm = df[['hadm_id', colname]].drop_duplicates()\n",
    "    colname_aki_hadm = df.loc[df['is_aki'], ['hadm_id', colname]].drop_duplicates()\n",
    "\n",
    "    # Compute counts of hadm_ids per colname\n",
    "    colname_hadm_counts = colname_hadm.groupby(colname)['hadm_id'].count()\n",
    "    colname_aki_hadm_counts = colname_aki_hadm.groupby(colname)['hadm_id'].count()\n",
    "\n",
    "    # Align indices\n",
    "    colname_all = colname_hadm_counts.index.union(colname_aki_hadm_counts.index)\n",
    "    colname_hadm_counts = colname_hadm_counts.reindex(colname_all, fill_value=0)\n",
    "    colname_aki_hadm_counts = colname_aki_hadm_counts.reindex(colname_all, fill_value=0)\n",
    "\n",
    "    # Perform z-test for proportions\n",
    "    code_test_pval = {}\n",
    "    print(f'Calculating p-values for every code...')\n",
    "    for k in tqdm(colname_all):\n",
    "        counts = np.array([colname_aki_hadm_counts[k], colname_hadm_counts[k] - colname_aki_hadm_counts[k]])\n",
    "        nobs = np.array([n_aki_hadms, n_hadms - n_aki_hadms])\n",
    "\n",
    "        if 0 not in nobs:\n",
    "            if 0 not in counts:\n",
    "                stat, pval = proportions_ztest(counts, nobs)\n",
    "                code_test_pval[k] = pval\n",
    "            elif counts[1] == 0:\n",
    "                code_test_pval[k] = 0\n",
    "            else:\n",
    "                print(f'Code {k} has 0 counts in AKI... wrong counting')\n",
    "        else:\n",
    "            print(f'Zero in nobs for code {k}')\n",
    "\n",
    "    aki_code_top = {k for k, v in code_test_pval.items() if v < 0.05}\n",
    "    print(f'There are {len(aki_code_top)} codes with p-value < 0.05.')\n",
    "\n",
    "    # Select codes with counts greater than the mean\n",
    "    code_top = colname_hadm_counts[colname_hadm_counts > colname_hadm_counts.mean()].index\n",
    "    print(f'# codes with count larger than mean: {len(code_top)}')\n",
    "\n",
    "    # Intersection of codes with p-value < 0.05 and counts > mean\n",
    "    final_aki_code_top = aki_code_top.intersection(code_top)\n",
    "    print(f'Finally, we got {len(final_aki_code_top)} codes to maintain.')\n",
    "\n",
    "    fact = list(final_aki_code_top)\n",
    "\n",
    "    # Create a new dataframe using pivot\n",
    "    print('\\nCreating new dataframe...')\n",
    "    df_filtered = df[df[colname].isin(fact)]\n",
    "    grouped = df_filtered.groupby(['subject_id', 'hadm_id', colname])[val_colname].mean().reset_index()\n",
    "    pivot_df = grouped.pivot(index=['subject_id', 'hadm_id'], columns=colname, values=val_colname).reset_index()\n",
    "    pivot_df = pivot_df.fillna(0)\n",
    "\n",
    "    # Prompt for column name prefix\n",
    "    prefix = input('Column name prefix: ')\n",
    "\n",
    "    # Rename columns\n",
    "    new_colnames = ['value_' + prefix + '_' + str(c) for c in pivot_df.columns if c not in ['subject_id', 'hadm_id']]\n",
    "    pivot_df.columns = ['subject_id', 'hadm_id'] + new_colnames\n",
    "\n",
    "    final_df = pivot_df\n",
    "\n",
    "    return final_aki_code_top, final_df"
   ]
  },
  {
   "cell_type": "code",
   "execution_count": 32,
   "metadata": {},
   "outputs": [
    {
     "data": {
      "text/plain": [
       "Index(['subject_id', 'hadm_id', 'stay_id', 'caregiver_id', 'charttime',\n",
       "       'storetime', 'itemid', 'value', 'valueuom', 'aki'],\n",
       "      dtype='object')"
      ]
     },
     "execution_count": 32,
     "metadata": {},
     "output_type": "execute_result"
    }
   ],
   "source": [
    "outputevents.columns"
   ]
  },
  {
   "cell_type": "code",
   "execution_count": 33,
   "metadata": {},
   "outputs": [],
   "source": [
    "outputevents = outputevents.drop(['stay_id', 'caregiver_id', 'charttime', 'storetime', 'valueuom'], axis =1)"
   ]
  },
  {
   "cell_type": "code",
   "execution_count": 34,
   "metadata": {},
   "outputs": [
    {
     "data": {
      "text/plain": [
       "Index(['subject_id', 'hadm_id', 'itemid', 'value', 'aki'], dtype='object')"
      ]
     },
     "execution_count": 34,
     "metadata": {},
     "output_type": "execute_result"
    }
   ],
   "source": [
    "outputevents.columns"
   ]
  },
  {
   "cell_type": "code",
   "execution_count": 35,
   "metadata": {},
   "outputs": [
    {
     "name": "stdout",
     "output_type": "stream",
     "text": [
      "# unique aki hadms : 26718\n",
      "# unique hadms : 67174\n",
      "Calculating p-values for every code...\n"
     ]
    },
    {
     "name": "stderr",
     "output_type": "stream",
     "text": [
      "100%|██████████| 71/71 [00:00<00:00, 3761.47it/s]"
     ]
    },
    {
     "name": "stdout",
     "output_type": "stream",
     "text": [
      "There are 62 codes with p-value < 0.05.\n",
      "# codes with count larger than mean: 16\n",
      "Finally, we got 16 codes to maintain.\n",
      "\n",
      "Creating new dataframe...\n"
     ]
    },
    {
     "name": "stderr",
     "output_type": "stream",
     "text": [
      "\n"
     ]
    }
   ],
   "source": [
    "list, data = do_everything3(outputevents, 'itemid', 'value')"
   ]
  },
  {
   "cell_type": "code",
   "execution_count": 36,
   "metadata": {},
   "outputs": [],
   "source": [
    "data.to_csv('final_outputevents.csv', index = False)\n",
    "\n",
    "os.remove('outputevents.csv')"
   ]
  }
 ],
 "metadata": {
  "kernelspec": {
   "display_name": "latest",
   "language": "python",
   "name": "python3"
  },
  "language_info": {
   "codemirror_mode": {
    "name": "ipython",
    "version": 3
   },
   "file_extension": ".py",
   "mimetype": "text/x-python",
   "name": "python",
   "nbconvert_exporter": "python",
   "pygments_lexer": "ipython3",
   "version": "3.9.7"
  }
 },
 "nbformat": 4,
 "nbformat_minor": 2
}
