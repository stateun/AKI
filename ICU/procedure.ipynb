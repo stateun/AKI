{
 "cells": [
  {
   "cell_type": "markdown",
   "metadata": {},
   "source": [
    "# diagnoses_icd"
   ]
  },
  {
   "cell_type": "code",
   "execution_count": 1,
   "metadata": {},
   "outputs": [],
   "source": [
    "import pandas as pd"
   ]
  },
  {
   "cell_type": "code",
   "execution_count": 2,
   "metadata": {},
   "outputs": [],
   "source": [
    "diagnoses = pd.read_csv('/data/share/AKI/3.0/hosp/diagnoses_icd.csv.gz', compression = 'gzip')"
   ]
  },
  {
   "cell_type": "code",
   "execution_count": 3,
   "metadata": {},
   "outputs": [
    {
     "data": {
      "text/plain": [
       "Index(['subject_id', 'hadm_id', 'seq_num', 'icd_code', 'icd_version'], dtype='object')"
      ]
     },
     "execution_count": 3,
     "metadata": {},
     "output_type": "execute_result"
    }
   ],
   "source": [
    "diagnoses.columns"
   ]
  },
  {
   "cell_type": "code",
   "execution_count": 4,
   "metadata": {},
   "outputs": [
    {
     "name": "stdout",
     "output_type": "stream",
     "text": [
      "   subject_id   hadm_id  seq_num icd_code  icd_version\n",
      "0    10000032  22595853        1     5723            9\n",
      "1    10000032  22595853        2    78959            9\n",
      "2    10000032  22595853        3     5715            9\n",
      "3    10000032  22595853        4    07070            9\n",
      "4    10000032  22595853        5      496            9\n",
      "5    10000032  22595853        6    29680            9\n",
      "6    10000032  22595853        7    30981            9\n",
      "7    10000032  22595853        8    V1582            9\n",
      "8    10000032  22841357        1    07071            9\n",
      "9    10000032  22841357        2    78959            9\n",
      "-----------------\n",
      "(6364520, 5)\n"
     ]
    }
   ],
   "source": [
    "print(diagnoses.head(10))\n",
    "print('-----------------')\n",
    "print(diagnoses.shape)"
   ]
  },
  {
   "cell_type": "code",
   "execution_count": 5,
   "metadata": {},
   "outputs": [],
   "source": [
    "target_value = ['5845', '5846', '5847', '5848', '5849', '66930', '66932', '66934', 'N17', 'N170', 'N171', 'N172', 'N178', 'N179', 'Q904']"
   ]
  },
  {
   "cell_type": "code",
   "execution_count": 6,
   "metadata": {},
   "outputs": [],
   "source": [
    "diagnoses = diagnoses.drop(['seq_num', 'icd_version'], axis = 1)"
   ]
  },
  {
   "cell_type": "code",
   "execution_count": 7,
   "metadata": {},
   "outputs": [
    {
     "data": {
      "text/plain": [
       "'\\nwithout AKI 0.99\\nwith AKI 0.01\\n'"
      ]
     },
     "execution_count": 7,
     "metadata": {},
     "output_type": "execute_result"
    }
   ],
   "source": [
    "diagnoses['target'] = diagnoses['icd_code'].apply(lambda x : 1 if x in target_value else 0)\n",
    "diagnoses['target'].value_counts() \n",
    "\"\"\"\n",
    "without AKI 0.99\n",
    "with AKI 0.01\n",
    "\"\"\""
   ]
  },
  {
   "cell_type": "code",
   "execution_count": 8,
   "metadata": {},
   "outputs": [],
   "source": [
    "aki_list = diagnoses[diagnoses['target'] == 1]['hadm_id'].unique()\n",
    "not_aki_list = diagnoses[diagnoses['target'] == 0]['hadm_id'].unique()"
   ]
  },
  {
   "cell_type": "markdown",
   "metadata": {},
   "source": [
    "# Procedureevents"
   ]
  },
  {
   "cell_type": "code",
   "execution_count": 9,
   "metadata": {},
   "outputs": [],
   "source": [
    "import gc\n",
    "import pandas as pd\n",
    "import os\n",
    "import numpy as np\n",
    "from tqdm import tqdm\n",
    "import datetime\n",
    "import matplotlib.pyplot as plt\n",
    "from statsmodels.stats.proportion import proportions_ztest\n",
    "\n",
    "icu_path = '/data/share/AKI/3.0/icu/'\n",
    "label_data = pd.read_csv('/home/stateun/aki_hadm.csv')\n",
    "\n",
    "label_subject = label_data['subject_id']\n",
    "label_hadm = label_data['hadm_id']\n",
    "label_aki = label_data['aki']"
   ]
  },
  {
   "cell_type": "code",
   "execution_count": 10,
   "metadata": {},
   "outputs": [],
   "source": [
    "procedureevents = pd.read_csv('/data/share/AKI/3.0/icu/procedureevents.csv.gz', compression = 'gzip')"
   ]
  },
  {
   "cell_type": "code",
   "execution_count": 11,
   "metadata": {},
   "outputs": [
    {
     "data": {
      "text/plain": [
       "Index(['subject_id', 'hadm_id', 'stay_id', 'caregiver_id', 'starttime',\n",
       "       'endtime', 'storetime', 'itemid', 'value', 'valueuom', 'location',\n",
       "       'locationcategory', 'orderid', 'linkorderid', 'ordercategoryname',\n",
       "       'ordercategorydescription', 'patientweight', 'isopenbag',\n",
       "       'continueinnextdept', 'statusdescription', 'originalamount',\n",
       "       'originalrate'],\n",
       "      dtype='object')"
      ]
     },
     "execution_count": 11,
     "metadata": {},
     "output_type": "execute_result"
    }
   ],
   "source": [
    "procedureevents.columns"
   ]
  },
  {
   "cell_type": "code",
   "execution_count": 12,
   "metadata": {},
   "outputs": [],
   "source": [
    "procedureevents = procedureevents.drop([ 'stay_id', 'caregiver_id', 'starttime',\n",
    "       'endtime', 'storetime',  'valueuom', 'location',\n",
    "       'locationcategory', 'orderid', 'linkorderid', 'ordercategoryname',\n",
    "       'ordercategorydescription', 'patientweight', 'isopenbag',\n",
    "       'continueinnextdept', 'statusdescription', 'originalamount',\n",
    "       'originalrate'], axis= 1)"
   ]
  },
  {
   "cell_type": "code",
   "execution_count": 13,
   "metadata": {},
   "outputs": [
    {
     "data": {
      "text/plain": [
       "0"
      ]
     },
     "execution_count": 13,
     "metadata": {},
     "output_type": "execute_result"
    }
   ],
   "source": [
    "# Check the nan value\n",
    "sum(procedureevents['value'].isna())"
   ]
  },
  {
   "cell_type": "code",
   "execution_count": 15,
   "metadata": {},
   "outputs": [
    {
     "data": {
      "text/plain": [
       "dtype('float64')"
      ]
     },
     "execution_count": 15,
     "metadata": {},
     "output_type": "execute_result"
    }
   ],
   "source": [
    "procedureevents['value'].dtypes"
   ]
  },
  {
   "cell_type": "code",
   "execution_count": 16,
   "metadata": {},
   "outputs": [
    {
     "data": {
      "text/html": [
       "<div>\n",
       "<style scoped>\n",
       "    .dataframe tbody tr th:only-of-type {\n",
       "        vertical-align: middle;\n",
       "    }\n",
       "\n",
       "    .dataframe tbody tr th {\n",
       "        vertical-align: top;\n",
       "    }\n",
       "\n",
       "    .dataframe thead th {\n",
       "        text-align: right;\n",
       "    }\n",
       "</style>\n",
       "<table border=\"1\" class=\"dataframe\">\n",
       "  <thead>\n",
       "    <tr style=\"text-align: right;\">\n",
       "      <th></th>\n",
       "      <th>itemid</th>\n",
       "      <th>min</th>\n",
       "      <th>max</th>\n",
       "      <th>mean</th>\n",
       "      <th>Q1-1.5*IQR</th>\n",
       "      <th>Q3+1.5*IQR</th>\n",
       "    </tr>\n",
       "  </thead>\n",
       "  <tbody>\n",
       "    <tr>\n",
       "      <th>0</th>\n",
       "      <td>221214</td>\n",
       "      <td>1.000000</td>\n",
       "      <td>1.0</td>\n",
       "      <td>1.000000</td>\n",
       "      <td>1.000</td>\n",
       "      <td>1.000</td>\n",
       "    </tr>\n",
       "    <tr>\n",
       "      <th>1</th>\n",
       "      <td>221216</td>\n",
       "      <td>1.000000</td>\n",
       "      <td>1.0</td>\n",
       "      <td>1.000000</td>\n",
       "      <td>1.000</td>\n",
       "      <td>1.000</td>\n",
       "    </tr>\n",
       "    <tr>\n",
       "      <th>2</th>\n",
       "      <td>221217</td>\n",
       "      <td>1.000000</td>\n",
       "      <td>1.0</td>\n",
       "      <td>1.000000</td>\n",
       "      <td>1.000</td>\n",
       "      <td>1.000</td>\n",
       "    </tr>\n",
       "    <tr>\n",
       "      <th>3</th>\n",
       "      <td>221219</td>\n",
       "      <td>1.000000</td>\n",
       "      <td>1.0</td>\n",
       "      <td>1.000000</td>\n",
       "      <td>1.000</td>\n",
       "      <td>1.000</td>\n",
       "    </tr>\n",
       "    <tr>\n",
       "      <th>4</th>\n",
       "      <td>221223</td>\n",
       "      <td>1.000000</td>\n",
       "      <td>1.0</td>\n",
       "      <td>1.000000</td>\n",
       "      <td>1.000</td>\n",
       "      <td>1.000</td>\n",
       "    </tr>\n",
       "    <tr>\n",
       "      <th>5</th>\n",
       "      <td>221255</td>\n",
       "      <td>1.000000</td>\n",
       "      <td>1.0</td>\n",
       "      <td>1.000000</td>\n",
       "      <td>1.000</td>\n",
       "      <td>1.000</td>\n",
       "    </tr>\n",
       "    <tr>\n",
       "      <th>6</th>\n",
       "      <td>223253</td>\n",
       "      <td>1.000000</td>\n",
       "      <td>1.0</td>\n",
       "      <td>1.000000</td>\n",
       "      <td>1.000</td>\n",
       "      <td>1.000</td>\n",
       "    </tr>\n",
       "    <tr>\n",
       "      <th>7</th>\n",
       "      <td>224263</td>\n",
       "      <td>0.029861</td>\n",
       "      <td>100740.0</td>\n",
       "      <td>5165.319858</td>\n",
       "      <td>-6206.125</td>\n",
       "      <td>14196.875</td>\n",
       "    </tr>\n",
       "    <tr>\n",
       "      <th>8</th>\n",
       "      <td>224264</td>\n",
       "      <td>0.004861</td>\n",
       "      <td>172949.0</td>\n",
       "      <td>6117.822138</td>\n",
       "      <td>-7736.500</td>\n",
       "      <td>16759.500</td>\n",
       "    </tr>\n",
       "    <tr>\n",
       "      <th>9</th>\n",
       "      <td>224267</td>\n",
       "      <td>0.115278</td>\n",
       "      <td>39002.0</td>\n",
       "      <td>3059.468616</td>\n",
       "      <td>-2787.250</td>\n",
       "      <td>8066.750</td>\n",
       "    </tr>\n",
       "    <tr>\n",
       "      <th>10</th>\n",
       "      <td>224268</td>\n",
       "      <td>0.414583</td>\n",
       "      <td>17265.0</td>\n",
       "      <td>3148.683919</td>\n",
       "      <td>-3238.250</td>\n",
       "      <td>8555.750</td>\n",
       "    </tr>\n",
       "    <tr>\n",
       "      <th>11</th>\n",
       "      <td>224269</td>\n",
       "      <td>0.056250</td>\n",
       "      <td>38074.0</td>\n",
       "      <td>2412.829557</td>\n",
       "      <td>-1357.250</td>\n",
       "      <td>5118.750</td>\n",
       "    </tr>\n",
       "    <tr>\n",
       "      <th>12</th>\n",
       "      <td>224270</td>\n",
       "      <td>0.200000</td>\n",
       "      <td>183588.0</td>\n",
       "      <td>7495.904193</td>\n",
       "      <td>-10772.750</td>\n",
       "      <td>22789.250</td>\n",
       "    </tr>\n",
       "    <tr>\n",
       "      <th>13</th>\n",
       "      <td>224272</td>\n",
       "      <td>0.365972</td>\n",
       "      <td>17400.0</td>\n",
       "      <td>2337.528159</td>\n",
       "      <td>-2151.375</td>\n",
       "      <td>6145.625</td>\n",
       "    </tr>\n",
       "    <tr>\n",
       "      <th>14</th>\n",
       "      <td>224273</td>\n",
       "      <td>198.000000</td>\n",
       "      <td>30966.0</td>\n",
       "      <td>4978.290323</td>\n",
       "      <td>-4897.750</td>\n",
       "      <td>13694.250</td>\n",
       "    </tr>\n",
       "    <tr>\n",
       "      <th>15</th>\n",
       "      <td>224274</td>\n",
       "      <td>0.002778</td>\n",
       "      <td>154029.0</td>\n",
       "      <td>2165.761953</td>\n",
       "      <td>-2517.500</td>\n",
       "      <td>6158.500</td>\n",
       "    </tr>\n",
       "    <tr>\n",
       "      <th>16</th>\n",
       "      <td>224275</td>\n",
       "      <td>0.000694</td>\n",
       "      <td>92091.0</td>\n",
       "      <td>2277.983789</td>\n",
       "      <td>-2408.125</td>\n",
       "      <td>6266.875</td>\n",
       "    </tr>\n",
       "    <tr>\n",
       "      <th>17</th>\n",
       "      <td>224276</td>\n",
       "      <td>0.004167</td>\n",
       "      <td>40154.0</td>\n",
       "      <td>2183.107943</td>\n",
       "      <td>-1438.500</td>\n",
       "      <td>5357.500</td>\n",
       "    </tr>\n",
       "    <tr>\n",
       "      <th>18</th>\n",
       "      <td>224277</td>\n",
       "      <td>0.000694</td>\n",
       "      <td>103686.0</td>\n",
       "      <td>2308.861811</td>\n",
       "      <td>-2004.625</td>\n",
       "      <td>6002.375</td>\n",
       "    </tr>\n",
       "    <tr>\n",
       "      <th>19</th>\n",
       "      <td>224385</td>\n",
       "      <td>1.000000</td>\n",
       "      <td>1.0</td>\n",
       "      <td>1.000000</td>\n",
       "      <td>1.000</td>\n",
       "      <td>1.000</td>\n",
       "    </tr>\n",
       "  </tbody>\n",
       "</table>\n",
       "</div>"
      ],
      "text/plain": [
       "    itemid         min       max         mean  Q1-1.5*IQR  Q3+1.5*IQR\n",
       "0   221214    1.000000       1.0     1.000000       1.000       1.000\n",
       "1   221216    1.000000       1.0     1.000000       1.000       1.000\n",
       "2   221217    1.000000       1.0     1.000000       1.000       1.000\n",
       "3   221219    1.000000       1.0     1.000000       1.000       1.000\n",
       "4   221223    1.000000       1.0     1.000000       1.000       1.000\n",
       "5   221255    1.000000       1.0     1.000000       1.000       1.000\n",
       "6   223253    1.000000       1.0     1.000000       1.000       1.000\n",
       "7   224263    0.029861  100740.0  5165.319858   -6206.125   14196.875\n",
       "8   224264    0.004861  172949.0  6117.822138   -7736.500   16759.500\n",
       "9   224267    0.115278   39002.0  3059.468616   -2787.250    8066.750\n",
       "10  224268    0.414583   17265.0  3148.683919   -3238.250    8555.750\n",
       "11  224269    0.056250   38074.0  2412.829557   -1357.250    5118.750\n",
       "12  224270    0.200000  183588.0  7495.904193  -10772.750   22789.250\n",
       "13  224272    0.365972   17400.0  2337.528159   -2151.375    6145.625\n",
       "14  224273  198.000000   30966.0  4978.290323   -4897.750   13694.250\n",
       "15  224274    0.002778  154029.0  2165.761953   -2517.500    6158.500\n",
       "16  224275    0.000694   92091.0  2277.983789   -2408.125    6266.875\n",
       "17  224276    0.004167   40154.0  2183.107943   -1438.500    5357.500\n",
       "18  224277    0.000694  103686.0  2308.861811   -2004.625    6002.375\n",
       "19  224385    1.000000       1.0     1.000000       1.000       1.000"
      ]
     },
     "execution_count": 16,
     "metadata": {},
     "output_type": "execute_result"
    }
   ],
   "source": [
    "\"\"\"\n",
    "Check the Outlier\n",
    "\"\"\"\n",
    "\n",
    "def compute_stats(group):\n",
    "    min_val = group.min()\n",
    "    max_val = group.max()\n",
    "    mean = group.mean()\n",
    "    q1 = group.quantile(0.25)\n",
    "    q3 = group.quantile(0.75)\n",
    "    iqr = q3 - q1\n",
    "    lower_fence = q1 - 1.5 * iqr\n",
    "    upper_fence = q3 + 1.5 * iqr\n",
    "    return pd.Series({'min': min_val, 'max': max_val,'mean' : mean, 'Q1-1.5*IQR' : lower_fence ,'Q3+1.5*IQR': upper_fence})\n",
    "\n",
    "stats = procedureevents.groupby('itemid')['value'].apply(compute_stats).unstack().reset_index()\n",
    "stats.head(20)"
   ]
  },
  {
   "cell_type": "code",
   "execution_count": 19,
   "metadata": {},
   "outputs": [
    {
     "data": {
      "text/plain": [
       "{'whiskers': [<matplotlib.lines.Line2D at 0x7feb6130f4f0>,\n",
       "  <matplotlib.lines.Line2D at 0x7feb6130f1c0>],\n",
       " 'caps': [<matplotlib.lines.Line2D at 0x7feb6b53dc10>,\n",
       "  <matplotlib.lines.Line2D at 0x7feb61370df0>],\n",
       " 'boxes': [<matplotlib.lines.Line2D at 0x7feb61307c10>],\n",
       " 'medians': [<matplotlib.lines.Line2D at 0x7feb61370f70>],\n",
       " 'fliers': [<matplotlib.lines.Line2D at 0x7feb61315b50>],\n",
       " 'means': []}"
      ]
     },
     "execution_count": 19,
     "metadata": {},
     "output_type": "execute_result"
    },
    {
     "data": {
      "image/png": "[encoded data removed]",
      "text/plain": [
       "<Figure size 640x480 with 1 Axes>"
      ]
     },
     "metadata": {},
     "output_type": "display_data"
    }
   ],
   "source": [
    "plt.boxplot(procedureevents[(procedureevents['itemid'] == 224264)]['value'])"
   ]
  },
  {
   "cell_type": "code",
   "execution_count": 23,
   "metadata": {},
   "outputs": [
    {
     "data": {
      "text/plain": [
       "{'whiskers': [<matplotlib.lines.Line2D at 0x7feb6082f3a0>,\n",
       "  <matplotlib.lines.Line2D at 0x7feb6082f640>],\n",
       " 'caps': [<matplotlib.lines.Line2D at 0x7feb6082f8e0>,\n",
       "  <matplotlib.lines.Line2D at 0x7feb6082fb80>],\n",
       " 'boxes': [<matplotlib.lines.Line2D at 0x7feb6082f100>],\n",
       " 'medians': [<matplotlib.lines.Line2D at 0x7feb6082fe20>],\n",
       " 'fliers': [<matplotlib.lines.Line2D at 0x7feb607bc100>],\n",
       " 'means': []}"
      ]
     },
     "execution_count": 23,
     "metadata": {},
     "output_type": "execute_result"
    },
    {
     "data": {
      "image/png": "[encoded data removed]",
      "text/plain": [
       "<Figure size 640x480 with 1 Axes>"
      ]
     },
     "metadata": {},
     "output_type": "display_data"
    }
   ],
   "source": [
    "plt.boxplot(procedureevents[(procedureevents['itemid'] ==  224264) & (procedureevents['value'] < 100000)]['value'])"
   ]
  },
  {
   "cell_type": "code",
   "execution_count": 25,
   "metadata": {},
   "outputs": [
    {
     "name": "stderr",
     "output_type": "stream",
     "text": [
      "Processing chunks: 1it [00:09,  9.73s/it]"
     ]
    },
    {
     "name": "stdout",
     "output_type": "stream",
     "text": [
      "0-th preprocessing complete.\n"
     ]
    },
    {
     "name": "stderr",
     "output_type": "stream",
     "text": [
      "\n"
     ]
    }
   ],
   "source": [
    "\"\"\"\n",
    "Remove the Outlier\n",
    "\"\"\"\n",
    "\n",
    "procedureevents = pd.read_csv(icu_path + 'procedureevents.csv.gz', compression='gzip', chunksize=10**6)\n",
    "\n",
    "for i, chunk in enumerate(tqdm(procedureevents, desc='Processing chunks')):\n",
    "\n",
    "    chunk = chunk.merge(stats[['itemid', 'Q1-1.5*IQR', 'Q3+1.5*IQR']], on='itemid', how='left')\n",
    "    chunk.head(5)\n",
    "\n",
    "    chunk.dropna(subset=['Q1-1.5*IQR', 'Q3+1.5*IQR'], inplace=True)\n",
    "\n",
    "    mask = (chunk['value'] >= chunk['Q1-1.5*IQR']) & (chunk['value'] <= chunk['Q3+1.5*IQR'])\n",
    "    chunk = chunk[mask]\n",
    "\n",
    "    chunk.drop(['Q1-1.5*IQR', 'Q3+1.5*IQR'], axis=1, inplace=True)\n",
    "\n",
    "    chunk.to_csv(f'preprocessing_procedureevents_{i}.csv', index=False)\n",
    "    \n",
    "    print(f'{i}-th preprocessing complete.')\n",
    "\n",
    "    del chunk\n",
    "    gc.collect()"
   ]
  },
  {
   "cell_type": "code",
   "execution_count": 48,
   "metadata": {},
   "outputs": [],
   "source": [
    "procedureevents = pd.read_csv('/home/stateun/preprocessing_procedureevents_0.csv')"
   ]
  },
  {
   "cell_type": "code",
   "execution_count": 49,
   "metadata": {},
   "outputs": [],
   "source": [
    "aki_hadms = procedureevents.loc[procedureevents['hadm_id'].isin(aki_list)]['hadm_id'].unique().tolist()"
   ]
  },
  {
   "cell_type": "code",
   "execution_count": 50,
   "metadata": {},
   "outputs": [],
   "source": [
    "hadm_ids = procedureevents.hadm_id.unique().tolist()\n",
    "aki_hadms_set = set(aki_hadms)\n",
    "hadm_aki_dict = {'hadm_id' : hadm_ids, 'aki':[int(h in aki_hadms_set) for h in hadm_ids]}\n",
    "hadm_aki_df = pd.DataFrame(hadm_aki_dict)"
   ]
  },
  {
   "cell_type": "code",
   "execution_count": 51,
   "metadata": {},
   "outputs": [],
   "source": [
    "# 1\n",
    "procedureevents['aki'] = procedureevents['hadm_id'].apply(lambda x : 1 if  x in aki_list else 0)"
   ]
  },
  {
   "cell_type": "code",
   "execution_count": 52,
   "metadata": {},
   "outputs": [],
   "source": [
    "# 2\n",
    "procedureevents['aki'] = procedureevents['hadm_id'].isin(aki_list).astype(int)"
   ]
  },
  {
   "cell_type": "code",
   "execution_count": 53,
   "metadata": {},
   "outputs": [],
   "source": [
    "procedureevents_icd = procedureevents[['subject_id', 'hadm_id']].drop_duplicates()\n",
    "hadm_to_subject = {str(h):s for s, h in zip(procedureevents_icd.subject_id.tolist(), procedureevents_icd.hadm_id.tolist())}\n",
    "aki_subject = [s for h, s in hadm_to_subject.items() if int(h) in aki_hadms_set]"
   ]
  },
  {
   "cell_type": "code",
   "execution_count": 54,
   "metadata": {},
   "outputs": [],
   "source": [
    "# Simple code\n",
    "aki_subject = procedureevents[procedureevents['hadm_id'].isin(aki_list)]['subject_id'].tolist()"
   ]
  },
  {
   "cell_type": "code",
   "execution_count": 55,
   "metadata": {},
   "outputs": [],
   "source": [
    "aki_subject_set = set(aki_subject)"
   ]
  },
  {
   "cell_type": "code",
   "execution_count": 56,
   "metadata": {},
   "outputs": [
    {
     "name": "stderr",
     "output_type": "stream",
     "text": [
      "  0%|          | 0/58750 [00:00<?, ?it/s]/usr/local/anaconda3/envs/latest/lib/python3.9/site-packages/tqdm/std.py:1195: FutureWarning: In a future version of pandas, a length 1 tuple will be returned when iterating over a groupby with a grouper equal to a list of length 1. Don't supply a list with a single grouper to avoid this warning.\n",
      "  for obj in iterable:\n",
      "100%|██████████| 58750/58750 [00:11<00:00, 5267.93it/s]\n"
     ]
    }
   ],
   "source": [
    "aki_first_prev_hadm = []\n",
    "aki_last_prev_hadm = []\n",
    "aki_subject_for_check = []\n",
    "for key, df in tqdm(procedureevents_icd.groupby(by = ['subject_id'])):\n",
    "    had_aki = list(set(df.hadm_id).intersection(aki_hadms_set))\n",
    "    if had_aki:\n",
    "        first_h = np.array(had_aki).min()\n",
    "        last_h = np.array(had_aki).max()\n",
    "        first_prev_h = df.loc[df.hadm_id <= first_h, 'hadm_id'].tolist()\n",
    "        last_prev_h = df.loc[df.hadm_id <= last_h, 'hadm_id'].tolist()\n",
    "        aki_first_prev_hadm.extend(first_prev_h)\n",
    "        aki_last_prev_hadm.append(last_prev_h)\n",
    "        aki_subject_for_check.append(key)"
   ]
  },
  {
   "cell_type": "code",
   "execution_count": 57,
   "metadata": {},
   "outputs": [],
   "source": [
    "from statsmodels.stats.proportion import proportions_ztest"
   ]
  },
  {
   "cell_type": "code",
   "execution_count": 58,
   "metadata": {},
   "outputs": [],
   "source": [
    "def do_everything3(df, colname, val_colname):\n",
    "    # Exclude rows where 'hadm_id' is null\n",
    "    df = df.loc[~df['hadm_id'].isnull(), :]\n",
    "\n",
    "    # Create 'is_aki' column to identify AKI subjects\n",
    "    df['is_aki'] = df['subject_id'].isin(aki_subject_set)\n",
    "\n",
    "    # Calculate the number of unique hadm_ids\n",
    "    n_hadms = df['hadm_id'].nunique()\n",
    "    n_aki_hadms = df.loc[df['is_aki'], 'hadm_id'].nunique()\n",
    "    print(f'# unique aki hadms : {n_aki_hadms}\\n# unique hadms : {n_hadms}')\n",
    "\n",
    "    # Get unique combinations of 'hadm_id' and 'colname'\n",
    "    colname_hadm = df[['hadm_id', colname]].drop_duplicates()\n",
    "    colname_aki_hadm = df.loc[df['is_aki'], ['hadm_id', colname]].drop_duplicates()\n",
    "\n",
    "    # Compute counts of hadm_ids per colname\n",
    "    colname_hadm_counts = colname_hadm.groupby(colname)['hadm_id'].count()\n",
    "    colname_aki_hadm_counts = colname_aki_hadm.groupby(colname)['hadm_id'].count()\n",
    "\n",
    "    # Align indices\n",
    "    colname_all = colname_hadm_counts.index.union(colname_aki_hadm_counts.index)\n",
    "    colname_hadm_counts = colname_hadm_counts.reindex(colname_all, fill_value=0)\n",
    "    colname_aki_hadm_counts = colname_aki_hadm_counts.reindex(colname_all, fill_value=0)\n",
    "\n",
    "    # Perform z-test for proportions\n",
    "    code_test_pval = {}\n",
    "    print(f'Calculating p-values for every code...')\n",
    "    for k in tqdm(colname_all):\n",
    "        counts = np.array([colname_aki_hadm_counts[k], colname_hadm_counts[k] - colname_aki_hadm_counts[k]])\n",
    "        nobs = np.array([n_aki_hadms, n_hadms - n_aki_hadms])\n",
    "\n",
    "        if 0 not in nobs:\n",
    "            if 0 not in counts:\n",
    "                stat, pval = proportions_ztest(counts, nobs)\n",
    "                code_test_pval[k] = pval\n",
    "            elif counts[1] == 0:\n",
    "                code_test_pval[k] = 0\n",
    "            else:\n",
    "                print(f'Code {k} has 0 counts in AKI... wrong counting')\n",
    "        else:\n",
    "            print(f'Zero in nobs for code {k}')\n",
    "\n",
    "    aki_code_top = {k for k, v in code_test_pval.items() if v < 0.05}\n",
    "    print(f'There are {len(aki_code_top)} codes with p-value < 0.05.')\n",
    "\n",
    "    # Select codes with counts greater than the mean\n",
    "    code_top = colname_hadm_counts[colname_hadm_counts > colname_hadm_counts.mean()].index\n",
    "    print(f'# codes with count larger than mean: {len(code_top)}')\n",
    "\n",
    "    # Intersection of codes with p-value < 0.05 and counts > mean\n",
    "    final_aki_code_top = aki_code_top.intersection(code_top)\n",
    "    print(f'Finally, we got {len(final_aki_code_top)} codes to maintain.')\n",
    "\n",
    "    fact = list(final_aki_code_top)\n",
    "\n",
    "    # Create a new dataframe using pivot\n",
    "    print('\\nCreating new dataframe...')\n",
    "    df_filtered = df[df[colname].isin(fact)]\n",
    "    grouped = df_filtered.groupby(['subject_id', 'hadm_id', colname])[val_colname].mean().reset_index()\n",
    "    pivot_df = grouped.pivot(index=['subject_id', 'hadm_id'], columns=colname, values=val_colname).reset_index()\n",
    "    pivot_df = pivot_df.fillna(0)\n",
    "\n",
    "    # Prompt for column name prefix\n",
    "    prefix = input('Column name prefix: ')\n",
    "\n",
    "    # Rename columns\n",
    "    new_colnames = ['value_' + prefix + '_' + str(c) for c in pivot_df.columns if c not in ['subject_id', 'hadm_id']]\n",
    "    pivot_df.columns = ['subject_id', 'hadm_id'] + new_colnames\n",
    "\n",
    "    final_df = pivot_df\n",
    "\n",
    "    return final_aki_code_top, final_df"
   ]
  },
  {
   "cell_type": "code",
   "execution_count": 59,
   "metadata": {},
   "outputs": [],
   "source": [
    "def convert_to_datetime(datestr : str) :\n",
    "    if ':' in datestr:\n",
    "        date_time = datetime.datetime.strptime(datestr, '%Y-%m-%d %H:%M:%S')\n",
    "    else :\n",
    "        date_time = datetime.datetime.strptime(datestr, '%Y-%m-%d')\n",
    "    return date_time\n",
    "procedureevents['hrs'] = (procedureevents.starttime.apply(lambda x : convert_to_datetime(x)) - procedureevents.endtime.apply(lambda x : convert_to_datetime(x))).apply(lambda x : round(x.seconds/3600))"
   ]
  },
  {
   "cell_type": "code",
   "execution_count": 65,
   "metadata": {},
   "outputs": [
    {
     "data": {
      "text/plain": [
       "Index(['subject_id', 'hadm_id', 'itemid', 'value', 'aki', 'hrs'], dtype='object')"
      ]
     },
     "execution_count": 65,
     "metadata": {},
     "output_type": "execute_result"
    }
   ],
   "source": [
    "procedureevents.columns"
   ]
  },
  {
   "cell_type": "code",
   "execution_count": 64,
   "metadata": {},
   "outputs": [
    {
     "ename": "KeyError",
     "evalue": "\"['stay_id', 'caregiver_id', 'starttime', 'endtime', 'storetime', 'valueuom', 'location', 'locationcategory', 'orderid', 'linkorderid', 'ordercategoryname', 'ordercategorydescription', 'patientweight', 'isopenbag', 'continueinnextdept', 'statusdescription', 'originalamount', 'originalrate'] not found in axis\"",
     "output_type": "error",
     "traceback": [
      "\u001b[0;31m---------------------------------------------------------------------------\u001b[0m",
      "\u001b[0;31mKeyError\u001b[0m                                  Traceback (most recent call last)",
      "Cell \u001b[0;32mIn[64], line 1\u001b[0m\n\u001b[0;32m----> 1\u001b[0m procedureevents \u001b[38;5;241m=\u001b[39m \u001b[43mprocedureevents\u001b[49m\u001b[38;5;241;43m.\u001b[39;49m\u001b[43mdrop\u001b[49m\u001b[43m(\u001b[49m\u001b[43m[\u001b[49m\u001b[38;5;124;43m'\u001b[39;49m\u001b[38;5;124;43mstay_id\u001b[39;49m\u001b[38;5;124;43m'\u001b[39;49m\u001b[43m,\u001b[49m\u001b[43m \u001b[49m\u001b[38;5;124;43m'\u001b[39;49m\u001b[38;5;124;43mcaregiver_id\u001b[39;49m\u001b[38;5;124;43m'\u001b[39;49m\u001b[43m,\u001b[49m\u001b[43m \u001b[49m\u001b[38;5;124;43m'\u001b[39;49m\u001b[38;5;124;43mstarttime\u001b[39;49m\u001b[38;5;124;43m'\u001b[39;49m\u001b[43m,\u001b[49m\n\u001b[1;32m      2\u001b[0m \u001b[43m       \u001b[49m\u001b[38;5;124;43m'\u001b[39;49m\u001b[38;5;124;43mendtime\u001b[39;49m\u001b[38;5;124;43m'\u001b[39;49m\u001b[43m,\u001b[49m\u001b[43m \u001b[49m\u001b[38;5;124;43m'\u001b[39;49m\u001b[38;5;124;43mstoretime\u001b[39;49m\u001b[38;5;124;43m'\u001b[39;49m\u001b[43m,\u001b[49m\u001b[43m \u001b[49m\u001b[38;5;124;43m'\u001b[39;49m\u001b[38;5;124;43mvalueuom\u001b[39;49m\u001b[38;5;124;43m'\u001b[39;49m\u001b[43m,\u001b[49m\u001b[43m \u001b[49m\u001b[38;5;124;43m'\u001b[39;49m\u001b[38;5;124;43mlocation\u001b[39;49m\u001b[38;5;124;43m'\u001b[39;49m\u001b[43m,\u001b[49m\n\u001b[1;32m      3\u001b[0m \u001b[43m       \u001b[49m\u001b[38;5;124;43m'\u001b[39;49m\u001b[38;5;124;43mlocationcategory\u001b[39;49m\u001b[38;5;124;43m'\u001b[39;49m\u001b[43m,\u001b[49m\u001b[43m \u001b[49m\u001b[38;5;124;43m'\u001b[39;49m\u001b[38;5;124;43morderid\u001b[39;49m\u001b[38;5;124;43m'\u001b[39;49m\u001b[43m,\u001b[49m\u001b[43m \u001b[49m\u001b[38;5;124;43m'\u001b[39;49m\u001b[38;5;124;43mlinkorderid\u001b[39;49m\u001b[38;5;124;43m'\u001b[39;49m\u001b[43m,\u001b[49m\u001b[43m \u001b[49m\u001b[38;5;124;43m'\u001b[39;49m\u001b[38;5;124;43mordercategoryname\u001b[39;49m\u001b[38;5;124;43m'\u001b[39;49m\u001b[43m,\u001b[49m\n\u001b[1;32m      4\u001b[0m \u001b[43m       \u001b[49m\u001b[38;5;124;43m'\u001b[39;49m\u001b[38;5;124;43mordercategorydescription\u001b[39;49m\u001b[38;5;124;43m'\u001b[39;49m\u001b[43m,\u001b[49m\u001b[43m \u001b[49m\u001b[38;5;124;43m'\u001b[39;49m\u001b[38;5;124;43mpatientweight\u001b[39;49m\u001b[38;5;124;43m'\u001b[39;49m\u001b[43m,\u001b[49m\u001b[43m \u001b[49m\u001b[38;5;124;43m'\u001b[39;49m\u001b[38;5;124;43misopenbag\u001b[39;49m\u001b[38;5;124;43m'\u001b[39;49m\u001b[43m,\u001b[49m\n\u001b[1;32m      5\u001b[0m \u001b[43m       \u001b[49m\u001b[38;5;124;43m'\u001b[39;49m\u001b[38;5;124;43mcontinueinnextdept\u001b[39;49m\u001b[38;5;124;43m'\u001b[39;49m\u001b[43m,\u001b[49m\u001b[43m \u001b[49m\u001b[38;5;124;43m'\u001b[39;49m\u001b[38;5;124;43mstatusdescription\u001b[39;49m\u001b[38;5;124;43m'\u001b[39;49m\u001b[43m,\u001b[49m\u001b[43m \u001b[49m\u001b[38;5;124;43m'\u001b[39;49m\u001b[38;5;124;43moriginalamount\u001b[39;49m\u001b[38;5;124;43m'\u001b[39;49m\u001b[43m,\u001b[49m\n\u001b[1;32m      6\u001b[0m \u001b[43m       \u001b[49m\u001b[38;5;124;43m'\u001b[39;49m\u001b[38;5;124;43moriginalrate\u001b[39;49m\u001b[38;5;124;43m'\u001b[39;49m\u001b[43m]\u001b[49m\u001b[43m,\u001b[49m\u001b[43m \u001b[49m\u001b[43maxis\u001b[49m\u001b[38;5;241;43m=\u001b[39;49m\u001b[38;5;241;43m1\u001b[39;49m\u001b[43m)\u001b[49m\n",
      "File \u001b[0;32m/usr/local/anaconda3/envs/latest/lib/python3.9/site-packages/pandas/util/_decorators.py:331\u001b[0m, in \u001b[0;36mdeprecate_nonkeyword_arguments.<locals>.decorate.<locals>.wrapper\u001b[0;34m(*args, **kwargs)\u001b[0m\n\u001b[1;32m    325\u001b[0m \u001b[38;5;28;01mif\u001b[39;00m \u001b[38;5;28mlen\u001b[39m(args) \u001b[38;5;241m>\u001b[39m num_allow_args:\n\u001b[1;32m    326\u001b[0m     warnings\u001b[38;5;241m.\u001b[39mwarn(\n\u001b[1;32m    327\u001b[0m         msg\u001b[38;5;241m.\u001b[39mformat(arguments\u001b[38;5;241m=\u001b[39m_format_argument_list(allow_args)),\n\u001b[1;32m    328\u001b[0m         \u001b[38;5;167;01mFutureWarning\u001b[39;00m,\n\u001b[1;32m    329\u001b[0m         stacklevel\u001b[38;5;241m=\u001b[39mfind_stack_level(),\n\u001b[1;32m    330\u001b[0m     )\n\u001b[0;32m--> 331\u001b[0m \u001b[38;5;28;01mreturn\u001b[39;00m \u001b[43mfunc\u001b[49m\u001b[43m(\u001b[49m\u001b[38;5;241;43m*\u001b[39;49m\u001b[43margs\u001b[49m\u001b[43m,\u001b[49m\u001b[43m \u001b[49m\u001b[38;5;241;43m*\u001b[39;49m\u001b[38;5;241;43m*\u001b[39;49m\u001b[43mkwargs\u001b[49m\u001b[43m)\u001b[49m\n",
      "File \u001b[0;32m/usr/local/anaconda3/envs/latest/lib/python3.9/site-packages/pandas/core/frame.py:5396\u001b[0m, in \u001b[0;36mDataFrame.drop\u001b[0;34m(self, labels, axis, index, columns, level, inplace, errors)\u001b[0m\n\u001b[1;32m   5248\u001b[0m \u001b[38;5;129m@deprecate_nonkeyword_arguments\u001b[39m(version\u001b[38;5;241m=\u001b[39m\u001b[38;5;28;01mNone\u001b[39;00m, allowed_args\u001b[38;5;241m=\u001b[39m[\u001b[38;5;124m\"\u001b[39m\u001b[38;5;124mself\u001b[39m\u001b[38;5;124m\"\u001b[39m, \u001b[38;5;124m\"\u001b[39m\u001b[38;5;124mlabels\u001b[39m\u001b[38;5;124m\"\u001b[39m])\n\u001b[1;32m   5249\u001b[0m \u001b[38;5;28;01mdef\u001b[39;00m \u001b[38;5;21mdrop\u001b[39m(  \u001b[38;5;66;03m# type: ignore[override]\u001b[39;00m\n\u001b[1;32m   5250\u001b[0m     \u001b[38;5;28mself\u001b[39m,\n\u001b[0;32m   (...)\u001b[0m\n\u001b[1;32m   5257\u001b[0m     errors: IgnoreRaise \u001b[38;5;241m=\u001b[39m \u001b[38;5;124m\"\u001b[39m\u001b[38;5;124mraise\u001b[39m\u001b[38;5;124m\"\u001b[39m,\n\u001b[1;32m   5258\u001b[0m ) \u001b[38;5;241m-\u001b[39m\u001b[38;5;241m>\u001b[39m DataFrame \u001b[38;5;241m|\u001b[39m \u001b[38;5;28;01mNone\u001b[39;00m:\n\u001b[1;32m   5259\u001b[0m \u001b[38;5;250m    \u001b[39m\u001b[38;5;124;03m\"\"\"\u001b[39;00m\n\u001b[1;32m   5260\u001b[0m \u001b[38;5;124;03m    Drop specified labels from rows or columns.\u001b[39;00m\n\u001b[1;32m   5261\u001b[0m \n\u001b[0;32m   (...)\u001b[0m\n\u001b[1;32m   5394\u001b[0m \u001b[38;5;124;03m            weight  1.0     0.8\u001b[39;00m\n\u001b[1;32m   5395\u001b[0m \u001b[38;5;124;03m    \"\"\"\u001b[39;00m\n\u001b[0;32m-> 5396\u001b[0m     \u001b[38;5;28;01mreturn\u001b[39;00m \u001b[38;5;28;43msuper\u001b[39;49m\u001b[43m(\u001b[49m\u001b[43m)\u001b[49m\u001b[38;5;241;43m.\u001b[39;49m\u001b[43mdrop\u001b[49m\u001b[43m(\u001b[49m\n\u001b[1;32m   5397\u001b[0m \u001b[43m        \u001b[49m\u001b[43mlabels\u001b[49m\u001b[38;5;241;43m=\u001b[39;49m\u001b[43mlabels\u001b[49m\u001b[43m,\u001b[49m\n\u001b[1;32m   5398\u001b[0m \u001b[43m        \u001b[49m\u001b[43maxis\u001b[49m\u001b[38;5;241;43m=\u001b[39;49m\u001b[43maxis\u001b[49m\u001b[43m,\u001b[49m\n\u001b[1;32m   5399\u001b[0m \u001b[43m        \u001b[49m\u001b[43mindex\u001b[49m\u001b[38;5;241;43m=\u001b[39;49m\u001b[43mindex\u001b[49m\u001b[43m,\u001b[49m\n\u001b[1;32m   5400\u001b[0m \u001b[43m        \u001b[49m\u001b[43mcolumns\u001b[49m\u001b[38;5;241;43m=\u001b[39;49m\u001b[43mcolumns\u001b[49m\u001b[43m,\u001b[49m\n\u001b[1;32m   5401\u001b[0m \u001b[43m        \u001b[49m\u001b[43mlevel\u001b[49m\u001b[38;5;241;43m=\u001b[39;49m\u001b[43mlevel\u001b[49m\u001b[43m,\u001b[49m\n\u001b[1;32m   5402\u001b[0m \u001b[43m        \u001b[49m\u001b[43minplace\u001b[49m\u001b[38;5;241;43m=\u001b[39;49m\u001b[43minplace\u001b[49m\u001b[43m,\u001b[49m\n\u001b[1;32m   5403\u001b[0m \u001b[43m        \u001b[49m\u001b[43merrors\u001b[49m\u001b[38;5;241;43m=\u001b[39;49m\u001b[43merrors\u001b[49m\u001b[43m,\u001b[49m\n\u001b[1;32m   5404\u001b[0m \u001b[43m    \u001b[49m\u001b[43m)\u001b[49m\n",
      "File \u001b[0;32m/usr/local/anaconda3/envs/latest/lib/python3.9/site-packages/pandas/util/_decorators.py:331\u001b[0m, in \u001b[0;36mdeprecate_nonkeyword_arguments.<locals>.decorate.<locals>.wrapper\u001b[0;34m(*args, **kwargs)\u001b[0m\n\u001b[1;32m    325\u001b[0m \u001b[38;5;28;01mif\u001b[39;00m \u001b[38;5;28mlen\u001b[39m(args) \u001b[38;5;241m>\u001b[39m num_allow_args:\n\u001b[1;32m    326\u001b[0m     warnings\u001b[38;5;241m.\u001b[39mwarn(\n\u001b[1;32m    327\u001b[0m         msg\u001b[38;5;241m.\u001b[39mformat(arguments\u001b[38;5;241m=\u001b[39m_format_argument_list(allow_args)),\n\u001b[1;32m    328\u001b[0m         \u001b[38;5;167;01mFutureWarning\u001b[39;00m,\n\u001b[1;32m    329\u001b[0m         stacklevel\u001b[38;5;241m=\u001b[39mfind_stack_level(),\n\u001b[1;32m    330\u001b[0m     )\n\u001b[0;32m--> 331\u001b[0m \u001b[38;5;28;01mreturn\u001b[39;00m \u001b[43mfunc\u001b[49m\u001b[43m(\u001b[49m\u001b[38;5;241;43m*\u001b[39;49m\u001b[43margs\u001b[49m\u001b[43m,\u001b[49m\u001b[43m \u001b[49m\u001b[38;5;241;43m*\u001b[39;49m\u001b[38;5;241;43m*\u001b[39;49m\u001b[43mkwargs\u001b[49m\u001b[43m)\u001b[49m\n",
      "File \u001b[0;32m/usr/local/anaconda3/envs/latest/lib/python3.9/site-packages/pandas/core/generic.py:4505\u001b[0m, in \u001b[0;36mNDFrame.drop\u001b[0;34m(self, labels, axis, index, columns, level, inplace, errors)\u001b[0m\n\u001b[1;32m   4503\u001b[0m \u001b[38;5;28;01mfor\u001b[39;00m axis, labels \u001b[38;5;129;01min\u001b[39;00m axes\u001b[38;5;241m.\u001b[39mitems():\n\u001b[1;32m   4504\u001b[0m     \u001b[38;5;28;01mif\u001b[39;00m labels \u001b[38;5;129;01mis\u001b[39;00m \u001b[38;5;129;01mnot\u001b[39;00m \u001b[38;5;28;01mNone\u001b[39;00m:\n\u001b[0;32m-> 4505\u001b[0m         obj \u001b[38;5;241m=\u001b[39m \u001b[43mobj\u001b[49m\u001b[38;5;241;43m.\u001b[39;49m\u001b[43m_drop_axis\u001b[49m\u001b[43m(\u001b[49m\u001b[43mlabels\u001b[49m\u001b[43m,\u001b[49m\u001b[43m \u001b[49m\u001b[43maxis\u001b[49m\u001b[43m,\u001b[49m\u001b[43m \u001b[49m\u001b[43mlevel\u001b[49m\u001b[38;5;241;43m=\u001b[39;49m\u001b[43mlevel\u001b[49m\u001b[43m,\u001b[49m\u001b[43m \u001b[49m\u001b[43merrors\u001b[49m\u001b[38;5;241;43m=\u001b[39;49m\u001b[43merrors\u001b[49m\u001b[43m)\u001b[49m\n\u001b[1;32m   4507\u001b[0m \u001b[38;5;28;01mif\u001b[39;00m inplace:\n\u001b[1;32m   4508\u001b[0m     \u001b[38;5;28mself\u001b[39m\u001b[38;5;241m.\u001b[39m_update_inplace(obj)\n",
      "File \u001b[0;32m/usr/local/anaconda3/envs/latest/lib/python3.9/site-packages/pandas/core/generic.py:4546\u001b[0m, in \u001b[0;36mNDFrame._drop_axis\u001b[0;34m(self, labels, axis, level, errors, only_slice)\u001b[0m\n\u001b[1;32m   4544\u001b[0m         new_axis \u001b[38;5;241m=\u001b[39m axis\u001b[38;5;241m.\u001b[39mdrop(labels, level\u001b[38;5;241m=\u001b[39mlevel, errors\u001b[38;5;241m=\u001b[39merrors)\n\u001b[1;32m   4545\u001b[0m     \u001b[38;5;28;01melse\u001b[39;00m:\n\u001b[0;32m-> 4546\u001b[0m         new_axis \u001b[38;5;241m=\u001b[39m \u001b[43maxis\u001b[49m\u001b[38;5;241;43m.\u001b[39;49m\u001b[43mdrop\u001b[49m\u001b[43m(\u001b[49m\u001b[43mlabels\u001b[49m\u001b[43m,\u001b[49m\u001b[43m \u001b[49m\u001b[43merrors\u001b[49m\u001b[38;5;241;43m=\u001b[39;49m\u001b[43merrors\u001b[49m\u001b[43m)\u001b[49m\n\u001b[1;32m   4547\u001b[0m     indexer \u001b[38;5;241m=\u001b[39m axis\u001b[38;5;241m.\u001b[39mget_indexer(new_axis)\n\u001b[1;32m   4549\u001b[0m \u001b[38;5;66;03m# Case for non-unique axis\u001b[39;00m\n\u001b[1;32m   4550\u001b[0m \u001b[38;5;28;01melse\u001b[39;00m:\n",
      "File \u001b[0;32m/usr/local/anaconda3/envs/latest/lib/python3.9/site-packages/pandas/core/indexes/base.py:6977\u001b[0m, in \u001b[0;36mIndex.drop\u001b[0;34m(self, labels, errors)\u001b[0m\n\u001b[1;32m   6975\u001b[0m \u001b[38;5;28;01mif\u001b[39;00m mask\u001b[38;5;241m.\u001b[39many():\n\u001b[1;32m   6976\u001b[0m     \u001b[38;5;28;01mif\u001b[39;00m errors \u001b[38;5;241m!=\u001b[39m \u001b[38;5;124m\"\u001b[39m\u001b[38;5;124mignore\u001b[39m\u001b[38;5;124m\"\u001b[39m:\n\u001b[0;32m-> 6977\u001b[0m         \u001b[38;5;28;01mraise\u001b[39;00m \u001b[38;5;167;01mKeyError\u001b[39;00m(\u001b[38;5;124mf\u001b[39m\u001b[38;5;124m\"\u001b[39m\u001b[38;5;132;01m{\u001b[39;00m\u001b[38;5;28mlist\u001b[39m(labels[mask])\u001b[38;5;132;01m}\u001b[39;00m\u001b[38;5;124m not found in axis\u001b[39m\u001b[38;5;124m\"\u001b[39m)\n\u001b[1;32m   6978\u001b[0m     indexer \u001b[38;5;241m=\u001b[39m indexer[\u001b[38;5;241m~\u001b[39mmask]\n\u001b[1;32m   6979\u001b[0m \u001b[38;5;28;01mreturn\u001b[39;00m \u001b[38;5;28mself\u001b[39m\u001b[38;5;241m.\u001b[39mdelete(indexer)\n",
      "\u001b[0;31mKeyError\u001b[0m: \"['stay_id', 'caregiver_id', 'starttime', 'endtime', 'storetime', 'valueuom', 'location', 'locationcategory', 'orderid', 'linkorderid', 'ordercategoryname', 'ordercategorydescription', 'patientweight', 'isopenbag', 'continueinnextdept', 'statusdescription', 'originalamount', 'originalrate'] not found in axis\""
     ]
    }
   ],
   "source": [
    "procedureevents = procedureevents.drop(['stay_id', 'caregiver_id', 'starttime',\n",
    "       'endtime', 'storetime', 'valueuom', 'location',\n",
    "       'locationcategory', 'orderid', 'linkorderid', 'ordercategoryname',\n",
    "       'ordercategorydescription', 'patientweight', 'isopenbag',\n",
    "       'continueinnextdept', 'statusdescription', 'originalamount',\n",
    "       'originalrate'], axis=1)"
   ]
  },
  {
   "cell_type": "code",
   "execution_count": 66,
   "metadata": {},
   "outputs": [
    {
     "data": {
      "text/plain": [
       "Index(['subject_id', 'hadm_id', 'itemid', 'value', 'aki', 'hrs'], dtype='object')"
      ]
     },
     "execution_count": 66,
     "metadata": {},
     "output_type": "execute_result"
    }
   ],
   "source": [
    "procedureevents.columns"
   ]
  },
  {
   "cell_type": "code",
   "execution_count": 67,
   "metadata": {},
   "outputs": [
    {
     "name": "stdout",
     "output_type": "stream",
     "text": [
      "# unique aki hadms : 29746\n",
      "# unique hadms : 76604\n",
      "Calculating p-values for every code...\n"
     ]
    },
    {
     "name": "stderr",
     "output_type": "stream",
     "text": [
      "100%|██████████| 159/159 [00:00<00:00, 5281.29it/s]"
     ]
    },
    {
     "name": "stdout",
     "output_type": "stream",
     "text": [
      "Code 229522 has 0 counts in AKI... wrong counting\n",
      "There are 129 codes with p-value < 0.05.\n",
      "# codes with count larger than mean: 32\n",
      "Finally, we got 31 codes to maintain.\n",
      "\n",
      "Creating new dataframe...\n"
     ]
    },
    {
     "name": "stderr",
     "output_type": "stream",
     "text": [
      "\n"
     ]
    }
   ],
   "source": [
    "list, data = do_everything3(procedureevents, 'itemid', 'value')"
   ]
  },
  {
   "cell_type": "code",
   "execution_count": 69,
   "metadata": {},
   "outputs": [],
   "source": [
    "data.to_csv('final_procedureevents.csv', index = False)\n",
    "\n",
    "os.remove('preprocessing_procedureevents_0.csv')"
   ]
  },
  {
   "cell_type": "code",
   "execution_count": null,
   "metadata": {},
   "outputs": [],
   "source": []
  }
 ],
 "metadata": {
  "kernelspec": {
   "display_name": "latest",
   "language": "python",
   "name": "python3"
  },
  "language_info": {
   "codemirror_mode": {
    "name": "ipython",
    "version": 3
   },
   "file_extension": ".py",
   "mimetype": "text/x-python",
   "name": "python",
   "nbconvert_exporter": "python",
   "pygments_lexer": "ipython3",
   "version": "3.9.7"
  }
 },
 "nbformat": 4,
 "nbformat_minor": 2
}
