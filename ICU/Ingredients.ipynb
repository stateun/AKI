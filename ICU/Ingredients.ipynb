{
 "cells": [
  {
   "cell_type": "markdown",
   "metadata": {},
   "source": [
    "# diagnoses_icd"
   ]
  },
  {
   "cell_type": "markdown",
   "metadata": {},
   "source": [
    "먼저 diagnoses_icd csv파일에서 icd_code를 통해서 AKI 여부를 확인한다.\n",
    "만약 AKI에 걸린 환자라면 target value에 1 그렇지 않으면 0이라는 값을 준다."
   ]
  },
  {
   "cell_type": "code",
   "execution_count": 3,
   "metadata": {},
   "outputs": [],
   "source": [
    "import pandas as pd"
   ]
  },
  {
   "cell_type": "code",
   "execution_count": 4,
   "metadata": {},
   "outputs": [],
   "source": [
    "diagnoses = pd.read_csv('/data/share/AKI/3.0/hosp/diagnoses_icd.csv.gz', compression = 'gzip')"
   ]
  },
  {
   "cell_type": "code",
   "execution_count": 5,
   "metadata": {},
   "outputs": [
    {
     "data": {
      "text/plain": [
       "Index(['subject_id', 'hadm_id', 'seq_num', 'icd_code', 'icd_version'], dtype='object')"
      ]
     },
     "execution_count": 5,
     "metadata": {},
     "output_type": "execute_result"
    }
   ],
   "source": [
    "diagnoses.columns"
   ]
  },
  {
   "cell_type": "code",
   "execution_count": 6,
   "metadata": {},
   "outputs": [
    {
     "name": "stdout",
     "output_type": "stream",
     "text": [
      "   subject_id   hadm_id  seq_num icd_code  icd_version\n",
      "0    10000032  22595853        1     5723            9\n",
      "1    10000032  22595853        2    78959            9\n",
      "2    10000032  22595853        3     5715            9\n",
      "3    10000032  22595853        4    07070            9\n",
      "4    10000032  22595853        5      496            9\n",
      "5    10000032  22595853        6    29680            9\n",
      "6    10000032  22595853        7    30981            9\n",
      "7    10000032  22595853        8    V1582            9\n",
      "8    10000032  22841357        1    07071            9\n",
      "9    10000032  22841357        2    78959            9\n",
      "-----------------\n",
      "(6364520, 5)\n"
     ]
    }
   ],
   "source": [
    "print(diagnoses.head(10))\n",
    "print('-----------------')\n",
    "print(diagnoses.shape)"
   ]
  },
  {
   "cell_type": "code",
   "execution_count": 7,
   "metadata": {},
   "outputs": [],
   "source": [
    "target_value = ['5845', '5846', '5847', '5848', '5849', '66930', '66932', '66934', 'N17', 'N170', 'N171', 'N172', 'N178', 'N179', 'Q904']"
   ]
  },
  {
   "cell_type": "code",
   "execution_count": 8,
   "metadata": {},
   "outputs": [],
   "source": [
    "diagnoses = diagnoses.drop(['seq_num', 'icd_version'], axis = 1)"
   ]
  },
  {
   "cell_type": "code",
   "execution_count": 9,
   "metadata": {},
   "outputs": [
    {
     "data": {
      "text/plain": [
       "'\\nwithout AKI 0.99\\nwith AKI 0.01\\n'"
      ]
     },
     "execution_count": 9,
     "metadata": {},
     "output_type": "execute_result"
    }
   ],
   "source": [
    "diagnoses['target'] = diagnoses['icd_code'].apply(lambda x : 1 if x in target_value else 0)\n",
    "diagnoses['target'].value_counts() \n",
    "# AKI에 걸리지 않은 사람이 99% 이고 AKI에 걸린 사람이 1% 임을 확인할 수 있다."
   ]
  },
  {
   "cell_type": "code",
   "execution_count": 39,
   "metadata": {},
   "outputs": [],
   "source": [
    "aki_list = diagnoses[diagnoses['target'] == 1]['hadm_id'].unique()\n",
    "not_aki_list = diagnoses[diagnoses['target'] == 0]['hadm_id'].unique()\n",
    "\n",
    "#aki_list에 aki에 걸린 환자의 hadm_id 값을 저장한다. 비슷한 방식으로 aki에 걸리지 않은 환자의 hadm_id 값을 not_aki_list에 저장한다."
   ]
  },
  {
   "cell_type": "markdown",
   "metadata": {},
   "source": [
    "위의 과정까지가 aki_list를 확인하는 것인데, 아래는 초은이가 준 aki_hadm csv에서 불러와서 하는 방법! 아래부터 참고해도 충분하다 "
   ]
  },
  {
   "cell_type": "markdown",
   "metadata": {},
   "source": [
    "# Ingredients"
   ]
  },
  {
   "cell_type": "code",
   "execution_count": 10,
   "metadata": {},
   "outputs": [],
   "source": [
    "import gc\n",
    "import pandas as pd\n",
    "import os\n",
    "import numpy as np\n",
    "from tqdm import tqdm\n",
    "import datetime\n",
    "import matplotlib.pyplot as plt\n",
    "from statsmodels.stats.proportion import proportions_ztest\n",
    "\n",
    "icu_path = '/data/share/AKI/3.0/icu/'\n",
    "label_data = pd.read_csv('/home/stateun/aki_hadm.csv')\n",
    "\n",
    "label_subject = label_data['subject_id']\n",
    "label_hadm = label_data['hadm_id']\n",
    "label_aki = label_data['aki']\n",
    "\n",
    "aki_list = label_data[ label_data['aki'] > 0 ]['hadm_id']\n",
    "not_aki_list = label_data[label_data['aki'] == 0]['hadm_id']"
   ]
  },
  {
   "cell_type": "code",
   "execution_count": 11,
   "metadata": {},
   "outputs": [],
   "source": [
    "ingredients = pd.read_csv('/data/share/AKI/3.0/icu/ingredientevents.csv.gz', compression = 'gzip')"
   ]
  },
  {
   "cell_type": "code",
   "execution_count": 12,
   "metadata": {},
   "outputs": [
    {
     "data": {
      "text/plain": [
       "Index(['subject_id', 'hadm_id', 'stay_id', 'caregiver_id', 'starttime',\n",
       "       'endtime', 'storetime', 'itemid', 'amount', 'amountuom', 'rate',\n",
       "       'rateuom', 'orderid', 'linkorderid', 'statusdescription',\n",
       "       'originalamount', 'originalrate'],\n",
       "      dtype='object')"
      ]
     },
     "execution_count": 12,
     "metadata": {},
     "output_type": "execute_result"
    }
   ],
   "source": [
    "ingredients.columns"
   ]
  },
  {
   "cell_type": "code",
   "execution_count": 13,
   "metadata": {},
   "outputs": [],
   "source": [
    "# 우리가 예측하고자하는 AKI 판별 여부에 유의미하지 않은 column들은 모두 제거한다. 이 과정을 한 번 더 뒤에서 하게 되는데 여기서 미리하는 이유는 column을 삭제하고 코딩 결과 속도를 빨리내기 위해서이다.\n",
    "ingredients = ingredients.drop(['stay_id', 'caregiver_id', 'storetime', 'amountuom', 'rate', 'rateuom',\n",
    "                          'statusdescription', 'originalamount', 'originalrate'], axis=1)"
   ]
  },
  {
   "cell_type": "code",
   "execution_count": 14,
   "metadata": {},
   "outputs": [
    {
     "data": {
      "text/html": [
       "<div>\n",
       "<style scoped>\n",
       "    .dataframe tbody tr th:only-of-type {\n",
       "        vertical-align: middle;\n",
       "    }\n",
       "\n",
       "    .dataframe tbody tr th {\n",
       "        vertical-align: top;\n",
       "    }\n",
       "\n",
       "    .dataframe thead th {\n",
       "        text-align: right;\n",
       "    }\n",
       "</style>\n",
       "<table border=\"1\" class=\"dataframe\">\n",
       "  <thead>\n",
       "    <tr style=\"text-align: right;\">\n",
       "      <th></th>\n",
       "      <th>itemid</th>\n",
       "      <th>min</th>\n",
       "      <th>max</th>\n",
       "      <th>mean</th>\n",
       "      <th>Q1-1.5*IQR</th>\n",
       "      <th>Q3+1.5*IQR</th>\n",
       "    </tr>\n",
       "  </thead>\n",
       "  <tbody>\n",
       "    <tr>\n",
       "      <th>0</th>\n",
       "      <td>220363</td>\n",
       "      <td>3.600000e-07</td>\n",
       "      <td>4.500000e+00</td>\n",
       "      <td>0.051046</td>\n",
       "      <td>-0.049909</td>\n",
       "      <td>0.131182</td>\n",
       "    </tr>\n",
       "    <tr>\n",
       "      <th>1</th>\n",
       "      <td>220364</td>\n",
       "      <td>0.000000e+00</td>\n",
       "      <td>1.200000e+05</td>\n",
       "      <td>16273.805032</td>\n",
       "      <td>-6250.000180</td>\n",
       "      <td>43750.001260</td>\n",
       "    </tr>\n",
       "    <tr>\n",
       "      <th>2</th>\n",
       "      <td>220395</td>\n",
       "      <td>0.000000e+00</td>\n",
       "      <td>1.200000e+05</td>\n",
       "      <td>16273.805032</td>\n",
       "      <td>-6250.000180</td>\n",
       "      <td>43750.001260</td>\n",
       "    </tr>\n",
       "    <tr>\n",
       "      <th>3</th>\n",
       "      <td>220412</td>\n",
       "      <td>0.000000e+00</td>\n",
       "      <td>4.800000e+02</td>\n",
       "      <td>65.095218</td>\n",
       "      <td>-25.000000</td>\n",
       "      <td>175.000000</td>\n",
       "    </tr>\n",
       "    <tr>\n",
       "      <th>4</th>\n",
       "      <td>220413</td>\n",
       "      <td>0.000000e+00</td>\n",
       "      <td>2.011200e+03</td>\n",
       "      <td>272.748968</td>\n",
       "      <td>-104.750001</td>\n",
       "      <td>733.250009</td>\n",
       "    </tr>\n",
       "    <tr>\n",
       "      <th>5</th>\n",
       "      <td>220454</td>\n",
       "      <td>0.000000e+00</td>\n",
       "      <td>8.286736e+04</td>\n",
       "      <td>26.001030</td>\n",
       "      <td>-36.074228</td>\n",
       "      <td>79.917000</td>\n",
       "    </tr>\n",
       "    <tr>\n",
       "      <th>6</th>\n",
       "      <td>220490</td>\n",
       "      <td>-1.510000e+01</td>\n",
       "      <td>1.000400e+06</td>\n",
       "      <td>159.773997</td>\n",
       "      <td>-171.609487</td>\n",
       "      <td>348.299020</td>\n",
       "    </tr>\n",
       "    <tr>\n",
       "      <th>7</th>\n",
       "      <td>226060</td>\n",
       "      <td>-1.164163e+01</td>\n",
       "      <td>3.322462e+05</td>\n",
       "      <td>79.136992</td>\n",
       "      <td>-53.310588</td>\n",
       "      <td>99.986355</td>\n",
       "    </tr>\n",
       "    <tr>\n",
       "      <th>8</th>\n",
       "      <td>226221</td>\n",
       "      <td>0.000000e+00</td>\n",
       "      <td>1.500000e+04</td>\n",
       "      <td>360.916162</td>\n",
       "      <td>-470.913199</td>\n",
       "      <td>1082.547883</td>\n",
       "    </tr>\n",
       "    <tr>\n",
       "      <th>9</th>\n",
       "      <td>226366</td>\n",
       "      <td>0.000000e+00</td>\n",
       "      <td>3.600000e+04</td>\n",
       "      <td>1524.250705</td>\n",
       "      <td>-2325.000000</td>\n",
       "      <td>5075.000000</td>\n",
       "    </tr>\n",
       "    <tr>\n",
       "      <th>10</th>\n",
       "      <td>226374</td>\n",
       "      <td>0.000000e+00</td>\n",
       "      <td>1.869500e+04</td>\n",
       "      <td>1704.658947</td>\n",
       "      <td>-1987.500000</td>\n",
       "      <td>4912.500000</td>\n",
       "    </tr>\n",
       "    <tr>\n",
       "      <th>11</th>\n",
       "      <td>226509</td>\n",
       "      <td>0.000000e+00</td>\n",
       "      <td>3.025800e+04</td>\n",
       "      <td>332.160916</td>\n",
       "      <td>49.999986</td>\n",
       "      <td>530.000024</td>\n",
       "    </tr>\n",
       "    <tr>\n",
       "      <th>12</th>\n",
       "      <td>227074</td>\n",
       "      <td>-1.510000e+01</td>\n",
       "      <td>1.000400e+06</td>\n",
       "      <td>144.230696</td>\n",
       "      <td>-120.741222</td>\n",
       "      <td>232.444733</td>\n",
       "    </tr>\n",
       "    <tr>\n",
       "      <th>13</th>\n",
       "      <td>227075</td>\n",
       "      <td>0.000000e+00</td>\n",
       "      <td>2.412000e+04</td>\n",
       "      <td>113.610322</td>\n",
       "      <td>-150.000000</td>\n",
       "      <td>330.000000</td>\n",
       "    </tr>\n",
       "    <tr>\n",
       "      <th>14</th>\n",
       "      <td>227079</td>\n",
       "      <td>2.028061e-01</td>\n",
       "      <td>5.000000e+03</td>\n",
       "      <td>1151.631705</td>\n",
       "      <td>-1063.232818</td>\n",
       "      <td>3357.939629</td>\n",
       "    </tr>\n",
       "    <tr>\n",
       "      <th>15</th>\n",
       "      <td>227080</td>\n",
       "      <td>0.000000e+00</td>\n",
       "      <td>4.300000e+02</td>\n",
       "      <td>99.154809</td>\n",
       "      <td>-30.000000</td>\n",
       "      <td>210.000000</td>\n",
       "    </tr>\n",
       "  </tbody>\n",
       "</table>\n",
       "</div>"
      ],
      "text/plain": [
       "    itemid           min           max          mean   Q1-1.5*IQR  \\\n",
       "0   220363  3.600000e-07  4.500000e+00      0.051046    -0.049909   \n",
       "1   220364  0.000000e+00  1.200000e+05  16273.805032 -6250.000180   \n",
       "2   220395  0.000000e+00  1.200000e+05  16273.805032 -6250.000180   \n",
       "3   220412  0.000000e+00  4.800000e+02     65.095218   -25.000000   \n",
       "4   220413  0.000000e+00  2.011200e+03    272.748968  -104.750001   \n",
       "5   220454  0.000000e+00  8.286736e+04     26.001030   -36.074228   \n",
       "6   220490 -1.510000e+01  1.000400e+06    159.773997  -171.609487   \n",
       "7   226060 -1.164163e+01  3.322462e+05     79.136992   -53.310588   \n",
       "8   226221  0.000000e+00  1.500000e+04    360.916162  -470.913199   \n",
       "9   226366  0.000000e+00  3.600000e+04   1524.250705 -2325.000000   \n",
       "10  226374  0.000000e+00  1.869500e+04   1704.658947 -1987.500000   \n",
       "11  226509  0.000000e+00  3.025800e+04    332.160916    49.999986   \n",
       "12  227074 -1.510000e+01  1.000400e+06    144.230696  -120.741222   \n",
       "13  227075  0.000000e+00  2.412000e+04    113.610322  -150.000000   \n",
       "14  227079  2.028061e-01  5.000000e+03   1151.631705 -1063.232818   \n",
       "15  227080  0.000000e+00  4.300000e+02     99.154809   -30.000000   \n",
       "\n",
       "      Q3+1.5*IQR  \n",
       "0       0.131182  \n",
       "1   43750.001260  \n",
       "2   43750.001260  \n",
       "3     175.000000  \n",
       "4     733.250009  \n",
       "5      79.917000  \n",
       "6     348.299020  \n",
       "7      99.986355  \n",
       "8    1082.547883  \n",
       "9    5075.000000  \n",
       "10   4912.500000  \n",
       "11    530.000024  \n",
       "12    232.444733  \n",
       "13    330.000000  \n",
       "14   3357.939629  \n",
       "15    210.000000  "
      ]
     },
     "execution_count": 14,
     "metadata": {},
     "output_type": "execute_result"
    }
   ],
   "source": [
    "# ICU 디렉토리의 파일에는 hosp와 다르게 정상수치인지 아닌지에 대한 정보가 없기 때문에 이상치 여부를 확인하고 이를 직접 제거한다.\n",
    "\n",
    "def compute_stats(group):\n",
    "    min_val = group.min()\n",
    "    max_val = group.max()\n",
    "    mean = group.mean()\n",
    "    q1 = group.quantile(0.25)\n",
    "    q3 = group.quantile(0.75)\n",
    "    iqr = q3 - q1\n",
    "    lower_fence = q1 - 1.5 * iqr\n",
    "    upper_fence = q3 + 1.5 * iqr\n",
    "    return pd.Series({'min': min_val, 'max': max_val,'mean' : mean, 'Q1-1.5*IQR' : lower_fence ,'Q3+1.5*IQR': upper_fence})\n",
    "\n",
    "stats = ingredients.groupby('itemid')['amount'].apply(compute_stats).unstack().reset_index()\n",
    "stats.head(20)"
   ]
  },
  {
   "cell_type": "code",
   "execution_count": 16,
   "metadata": {},
   "outputs": [
    {
     "data": {
      "text/plain": [
       "{'whiskers': [<matplotlib.lines.Line2D at 0x7fc029907910>,\n",
       "  <matplotlib.lines.Line2D at 0x7fc029907bb0>],\n",
       " 'caps': [<matplotlib.lines.Line2D at 0x7fc029907e50>,\n",
       "  <matplotlib.lines.Line2D at 0x7fc030f05130>],\n",
       " 'boxes': [<matplotlib.lines.Line2D at 0x7fc029907670>],\n",
       " 'medians': [<matplotlib.lines.Line2D at 0x7fc030f053d0>],\n",
       " 'fliers': [<matplotlib.lines.Line2D at 0x7fc030f05670>],\n",
       " 'means': []}"
      ]
     },
     "execution_count": 16,
     "metadata": {},
     "output_type": "execute_result"
    },
    {
     "data": {
      "image/png": "[encoded data removed]",
      "text/plain": [
       "<Figure size 640x480 with 1 Axes>"
      ]
     },
     "metadata": {},
     "output_type": "display_data"
    }
   ],
   "source": [
    "# boxplot으로 이상치 여부를 확인한다.\n",
    "\n",
    "plt.boxplot(ingredients[(ingredients['itemid'] == 220364)]['amount'])"
   ]
  },
  {
   "cell_type": "code",
   "execution_count": 17,
   "metadata": {},
   "outputs": [
    {
     "data": {
      "text/plain": [
       "50000.00143982464"
      ]
     },
     "execution_count": 17,
     "metadata": {},
     "output_type": "execute_result"
    }
   ],
   "source": [
    "# 몇퍼센트가 이상치 인지 정확하게 보기 위해서 qunatile을 보는데 대부분의 파일에서 99%이상 값이 정상이지만, 보통 Q1 - 1.5IQR, Q3 + 1.5IQR 이면 이상치로 판단하기 때문에 이 기준을 가지고 값들을 제거할 것이다.\n",
    "ingredients[ingredients['itemid'] == 220364]['amount'].quantile(0.999)"
   ]
  },
  {
   "cell_type": "code",
   "execution_count": 18,
   "metadata": {},
   "outputs": [
    {
     "name": "stderr",
     "output_type": "stream",
     "text": [
      "Processing chunks: 1it [00:09,  9.43s/it]"
     ]
    },
    {
     "name": "stdout",
     "output_type": "stream",
     "text": [
      "0-th preprocessing complete.\n"
     ]
    },
    {
     "name": "stderr",
     "output_type": "stream",
     "text": [
      "Processing chunks: 2it [00:18,  9.26s/it]"
     ]
    },
    {
     "name": "stdout",
     "output_type": "stream",
     "text": [
      "1-th preprocessing complete.\n"
     ]
    },
    {
     "name": "stderr",
     "output_type": "stream",
     "text": [
      "Processing chunks: 3it [00:27,  9.22s/it]"
     ]
    },
    {
     "name": "stdout",
     "output_type": "stream",
     "text": [
      "2-th preprocessing complete.\n"
     ]
    },
    {
     "name": "stderr",
     "output_type": "stream",
     "text": [
      "Processing chunks: 4it [00:36,  9.18s/it]"
     ]
    },
    {
     "name": "stdout",
     "output_type": "stream",
     "text": [
      "3-th preprocessing complete.\n"
     ]
    },
    {
     "name": "stderr",
     "output_type": "stream",
     "text": [
      "Processing chunks: 5it [00:45,  9.15s/it]"
     ]
    },
    {
     "name": "stdout",
     "output_type": "stream",
     "text": [
      "4-th preprocessing complete.\n"
     ]
    },
    {
     "name": "stderr",
     "output_type": "stream",
     "text": [
      "Processing chunks: 6it [00:55,  9.11s/it]"
     ]
    },
    {
     "name": "stdout",
     "output_type": "stream",
     "text": [
      "5-th preprocessing complete.\n"
     ]
    },
    {
     "name": "stderr",
     "output_type": "stream",
     "text": [
      "Processing chunks: 7it [01:03,  9.04s/it]"
     ]
    },
    {
     "name": "stdout",
     "output_type": "stream",
     "text": [
      "6-th preprocessing complete.\n"
     ]
    },
    {
     "name": "stderr",
     "output_type": "stream",
     "text": [
      "Processing chunks: 8it [01:12,  8.99s/it]"
     ]
    },
    {
     "name": "stdout",
     "output_type": "stream",
     "text": [
      "7-th preprocessing complete.\n"
     ]
    },
    {
     "name": "stderr",
     "output_type": "stream",
     "text": [
      "Processing chunks: 9it [01:21,  8.97s/it]"
     ]
    },
    {
     "name": "stdout",
     "output_type": "stream",
     "text": [
      "8-th preprocessing complete.\n"
     ]
    },
    {
     "name": "stderr",
     "output_type": "stream",
     "text": [
      "Processing chunks: 10it [01:30,  8.90s/it]"
     ]
    },
    {
     "name": "stdout",
     "output_type": "stream",
     "text": [
      "9-th preprocessing complete.\n"
     ]
    },
    {
     "name": "stderr",
     "output_type": "stream",
     "text": [
      "Processing chunks: 11it [01:39,  8.88s/it]"
     ]
    },
    {
     "name": "stdout",
     "output_type": "stream",
     "text": [
      "10-th preprocessing complete.\n"
     ]
    },
    {
     "name": "stderr",
     "output_type": "stream",
     "text": [
      "Processing chunks: 12it [01:47,  8.83s/it]"
     ]
    },
    {
     "name": "stdout",
     "output_type": "stream",
     "text": [
      "11-th preprocessing complete.\n"
     ]
    },
    {
     "name": "stderr",
     "output_type": "stream",
     "text": [
      "Processing chunks: 13it [01:56,  8.83s/it]"
     ]
    },
    {
     "name": "stdout",
     "output_type": "stream",
     "text": [
      "12-th preprocessing complete.\n"
     ]
    },
    {
     "name": "stderr",
     "output_type": "stream",
     "text": [
      "Processing chunks: 14it [02:05,  8.82s/it]"
     ]
    },
    {
     "name": "stdout",
     "output_type": "stream",
     "text": [
      "13-th preprocessing complete.\n"
     ]
    },
    {
     "name": "stderr",
     "output_type": "stream",
     "text": [
      "Processing chunks: 15it [02:07,  8.53s/it]"
     ]
    },
    {
     "name": "stdout",
     "output_type": "stream",
     "text": [
      "14-th preprocessing complete.\n"
     ]
    },
    {
     "name": "stderr",
     "output_type": "stream",
     "text": [
      "\n"
     ]
    }
   ],
   "source": [
    "\"\"\"\n",
    "Remove the Outlier\n",
    "\"\"\"\n",
    "\n",
    "ingredients = pd.read_csv(icu_path + 'ingredientevents.csv.gz', compression='gzip', chunksize=10**6)\n",
    "\n",
    "for i, chunk in enumerate(tqdm(ingredients, desc='Processing chunks')):\n",
    "\n",
    "    chunk = chunk.merge(stats[['itemid', 'Q1-1.5*IQR', 'Q3+1.5*IQR']], on='itemid', how='left')\n",
    "    chunk.head(5)\n",
    "\n",
    "    chunk.dropna(subset=['Q1-1.5*IQR', 'Q3+1.5*IQR'], inplace=True)\n",
    "\n",
    "    mask = (chunk['amount'] >= chunk['Q1-1.5*IQR']) & (chunk['amount'] <= chunk['Q3+1.5*IQR'])\n",
    "    chunk = chunk[mask]\n",
    "\n",
    "    chunk.drop(['Q1-1.5*IQR', 'Q3+1.5*IQR'], axis=1, inplace=True)\n",
    "\n",
    "    chunk.to_csv(f'preprocessing_ingredient_{i}.csv', index=False)\n",
    "    \n",
    "    print(f'{i}-th preprocessing complete.')\n",
    "\n",
    "    del chunk\n",
    "    gc.collect()"
   ]
  },
  {
   "cell_type": "code",
   "execution_count": 19,
   "metadata": {},
   "outputs": [
    {
     "data": {
      "text/html": [
       "<div>\n",
       "<style scoped>\n",
       "    .dataframe tbody tr th:only-of-type {\n",
       "        vertical-align: middle;\n",
       "    }\n",
       "\n",
       "    .dataframe tbody tr th {\n",
       "        vertical-align: top;\n",
       "    }\n",
       "\n",
       "    .dataframe thead th {\n",
       "        text-align: right;\n",
       "    }\n",
       "</style>\n",
       "<table border=\"1\" class=\"dataframe\">\n",
       "  <thead>\n",
       "    <tr style=\"text-align: right;\">\n",
       "      <th></th>\n",
       "      <th>itemid</th>\n",
       "      <th>min</th>\n",
       "      <th>max</th>\n",
       "      <th>mean</th>\n",
       "      <th>Q1-1.5*IQR</th>\n",
       "      <th>Q3+1.5*IQR</th>\n",
       "    </tr>\n",
       "  </thead>\n",
       "  <tbody>\n",
       "    <tr>\n",
       "      <th>0</th>\n",
       "      <td>220363</td>\n",
       "      <td>3.600000e-07</td>\n",
       "      <td>4.500000</td>\n",
       "      <td>0.051046</td>\n",
       "      <td>-0.049909</td>\n",
       "      <td>0.131182</td>\n",
       "    </tr>\n",
       "    <tr>\n",
       "      <th>1</th>\n",
       "      <td>220364</td>\n",
       "      <td>0.000000e+00</td>\n",
       "      <td>120000.001930</td>\n",
       "      <td>16273.805032</td>\n",
       "      <td>-6250.000180</td>\n",
       "      <td>43750.001260</td>\n",
       "    </tr>\n",
       "    <tr>\n",
       "      <th>2</th>\n",
       "      <td>220395</td>\n",
       "      <td>0.000000e+00</td>\n",
       "      <td>120000.001930</td>\n",
       "      <td>16273.805032</td>\n",
       "      <td>-6250.000180</td>\n",
       "      <td>43750.001260</td>\n",
       "    </tr>\n",
       "    <tr>\n",
       "      <th>3</th>\n",
       "      <td>220412</td>\n",
       "      <td>0.000000e+00</td>\n",
       "      <td>480.000000</td>\n",
       "      <td>65.095218</td>\n",
       "      <td>-25.000000</td>\n",
       "      <td>175.000000</td>\n",
       "    </tr>\n",
       "    <tr>\n",
       "      <th>4</th>\n",
       "      <td>220413</td>\n",
       "      <td>0.000000e+00</td>\n",
       "      <td>2011.200072</td>\n",
       "      <td>272.748968</td>\n",
       "      <td>-104.750001</td>\n",
       "      <td>733.250009</td>\n",
       "    </tr>\n",
       "  </tbody>\n",
       "</table>\n",
       "</div>"
      ],
      "text/plain": [
       "   itemid           min            max          mean   Q1-1.5*IQR  \\\n",
       "0  220363  3.600000e-07       4.500000      0.051046    -0.049909   \n",
       "1  220364  0.000000e+00  120000.001930  16273.805032 -6250.000180   \n",
       "2  220395  0.000000e+00  120000.001930  16273.805032 -6250.000180   \n",
       "3  220412  0.000000e+00     480.000000     65.095218   -25.000000   \n",
       "4  220413  0.000000e+00    2011.200072    272.748968  -104.750001   \n",
       "\n",
       "     Q3+1.5*IQR  \n",
       "0      0.131182  \n",
       "1  43750.001260  \n",
       "2  43750.001260  \n",
       "3    175.000000  \n",
       "4    733.250009  "
      ]
     },
     "execution_count": 19,
     "metadata": {},
     "output_type": "execute_result"
    }
   ],
   "source": [
    "stats.head(5)"
   ]
  },
  {
   "cell_type": "code",
   "execution_count": 20,
   "metadata": {},
   "outputs": [
    {
     "name": "stdout",
     "output_type": "stream",
     "text": [
      "1/14번째 파일 처리 완료: preprocessing_ingredient_0.csv\n",
      "2/14번째 파일 처리 완료: preprocessing_ingredient_1.csv\n",
      "3/14번째 파일 처리 완료: preprocessing_ingredient_2.csv\n",
      "4/14번째 파일 처리 완료: preprocessing_ingredient_3.csv\n",
      "5/14번째 파일 처리 완료: preprocessing_ingredient_4.csv\n",
      "6/14번째 파일 처리 완료: preprocessing_ingredient_5.csv\n",
      "7/14번째 파일 처리 완료: preprocessing_ingredient_6.csv\n",
      "8/14번째 파일 처리 완료: preprocessing_ingredient_7.csv\n",
      "9/14번째 파일 처리 완료: preprocessing_ingredient_8.csv\n",
      "10/14번째 파일 처리 완료: preprocessing_ingredient_9.csv\n",
      "11/14번째 파일 처리 완료: preprocessing_ingredient_10.csv\n",
      "12/14번째 파일 처리 완료: preprocessing_ingredient_11.csv\n",
      "13/14번째 파일 처리 완료: preprocessing_ingredient_12.csv\n",
      "14/14번째 파일 처리 완료: preprocessing_ingredient_13.csv\n",
      "모든 파일이 성공적으로 병합되었습니다.\n"
     ]
    }
   ],
   "source": [
    "file_path = '/home/stateun/'\n",
    "output_file = '/home/stateun/ingredients.csv'\n",
    "# chunk로 파일들을 불러와서 outlier를 제거하고, 제거한 파일들을 다시 하나로 붙이는 과정이다.\n",
    "\n",
    "for i in range(0,14):\n",
    "    file_name = f'preprocessing_ingredient_{i}.csv'\n",
    "    full_path = os.path.join(file_path, file_name)\n",
    "    \n",
    "    chunk = pd.read_csv(full_path)\n",
    "    if i == 1:\n",
    "        chunk.to_csv(output_file, mode='w', index=False)\n",
    "    else:\n",
    "        chunk.to_csv(output_file, mode='a', index=False, header=False)\n",
    "        \n",
    "    print(f'{i+1}/{14}번째 파일 처리 완료: {file_name}')\n",
    "    \n",
    "    try :\n",
    "        os.remove(full_path)\n",
    "    except Exception as e:\n",
    "        print(f'{file_name} 파일 삭제 중 오류 발생 : {e}')\n",
    "    \n",
    "print('모든 파일이 성공적으로 병합되었습니다.')"
   ]
  },
  {
   "cell_type": "code",
   "execution_count": 21,
   "metadata": {},
   "outputs": [],
   "source": [
    "ingredients = pd.read_csv('/home/stateun/ingredients.csv')"
   ]
  },
  {
   "cell_type": "code",
   "execution_count": 29,
   "metadata": {},
   "outputs": [],
   "source": [
    "# ingredients의 hadm_id 값들 중 aki에 들어간 hadm_id 값들을 하나의 list로 만들어줌\n",
    "aki_hadms = ingredients[ingredients['hadm_id'].isin(aki_list)]['hadm_id'].unique().tolist()"
   ]
  },
  {
   "cell_type": "code",
   "execution_count": 31,
   "metadata": {},
   "outputs": [],
   "source": [
    "# hadm_id와 aki 여부 두 가지를 datafreame을 만듦\n",
    "hadm_ids = ingredients.hadm_id.unique().tolist()\n",
    "aki_hadms_set = set(aki_hadms)\n",
    "hadm_aki_dict = {'hadm_id' : hadm_ids, 'aki':[int(h in aki_hadms_set) for h in hadm_ids]} # ingredients csv 파일에 존재하는 모든 hadm_id에 대하여 aki_hadms_set에 들어가있으면(즉, aki에 걸린 상태이면) 1 그렇지 않으면 0을 반환하는 코드이다.\n",
    "hadm_aki_df = pd.DataFrame(hadm_aki_dict)"
   ]
  },
  {
   "cell_type": "code",
   "execution_count": 33,
   "metadata": {},
   "outputs": [],
   "source": [
    "# 1, aki 여부를 만들어 주는 코드\n",
    "ingredients['aki'] = ingredients['hadm_id'].apply(lambda x : 1 if  x in aki_list else 0)"
   ]
  },
  {
   "cell_type": "code",
   "execution_count": 34,
   "metadata": {},
   "outputs": [],
   "source": [
    "# 2, 위와동일한 역할을 하는 코드이다.\n",
    "ingredients['aki'] = ingredients['hadm_id'].isin(aki_list).astype(int)"
   ]
  },
  {
   "cell_type": "code",
   "execution_count": 35,
   "metadata": {},
   "outputs": [],
   "source": [
    "ingredients_icd = ingredients[['subject_id', 'hadm_id']].drop_duplicates()\n",
    "hadm_to_subject = {str(h):s for s, h in zip(ingredients_icd.subject_id.tolist(), ingredients_icd.hadm_id.tolist())}\n",
    "# 위는 ingredients의 hadm_id와 subject_id를 하나의 (subject_id, hadm_id)로 만들어서 mapping 해준다.\n",
    "aki_subject = [s for h, s in hadm_to_subject.items() if int(h) in aki_hadms_set]\n",
    "# aki에 걸린 환자 code subject_id를 불러오는 code이다."
   ]
  },
  {
   "cell_type": "code",
   "execution_count": 37,
   "metadata": {},
   "outputs": [],
   "source": [
    "# 위의 aki_subject 인자를 만들어 줄 때 사용한 코드와 동일한 역할을 하는 코드이다.\n",
    "aki_subject = ingredients[ingredients['hadm_id'].isin(aki_list)]['subject_id'].tolist()"
   ]
  },
  {
   "cell_type": "code",
   "execution_count": 38,
   "metadata": {},
   "outputs": [],
   "source": [
    "aki_subject_set = set(aki_subject)"
   ]
  },
  {
   "cell_type": "code",
   "execution_count": 39,
   "metadata": {},
   "outputs": [
    {
     "name": "stderr",
     "output_type": "stream",
     "text": [
      "  0%|          | 0/53033 [00:00<?, ?it/s]/usr/local/anaconda3/envs/latest/lib/python3.9/site-packages/tqdm/std.py:1195: FutureWarning: In a future version of pandas, a length 1 tuple will be returned when iterating over a groupby with a grouper equal to a list of length 1. Don't supply a list with a single grouper to avoid this warning.\n",
      "  for obj in iterable:\n",
      "100%|██████████| 53033/53033 [00:09<00:00, 5735.99it/s]\n"
     ]
    }
   ],
   "source": [
    "aki_first_prev_hadm = []\n",
    "aki_last_prev_hadm = []\n",
    "aki_subject_for_check = []\n",
    "for key, df in tqdm(ingredients_icd.groupby(by = ['subject_id'])):\n",
    "    had_aki = list(set(df.hadm_id).intersection(aki_hadms_set))\n",
    "    if had_aki:\n",
    "        first_h = np.array(had_aki).min()\n",
    "        last_h = np.array(had_aki).max()\n",
    "        first_prev_h = df.loc[df.hadm_id <= first_h, 'hadm_id'].tolist()\n",
    "        last_prev_h = df.loc[df.hadm_id <= last_h, 'hadm_id'].tolist()\n",
    "        aki_first_prev_hadm.extend(first_prev_h)\n",
    "        aki_last_prev_hadm.append(last_prev_h)\n",
    "        aki_subject_for_check.append(key)"
   ]
  },
  {
   "cell_type": "code",
   "execution_count": 329,
   "metadata": {},
   "outputs": [],
   "source": [
    "from statsmodels.stats.proportion import proportions_ztest"
   ]
  },
  {
   "cell_type": "code",
   "execution_count": 330,
   "metadata": {},
   "outputs": [],
   "source": [
    "def do_everything3(df, colname, val_colname):\n",
    "    # Exclude rows where 'hadm_id' is null\n",
    "    df = df.loc[~df['hadm_id'].isnull(), :]\n",
    "\n",
    "    # Create 'is_aki' column to identify AKI subjects\n",
    "    df['is_aki'] = df['subject_id'].isin(aki_subject_set)\n",
    "\n",
    "    # Calculate the number of unique hadm_ids\n",
    "    n_hadms = df['hadm_id'].nunique()\n",
    "    n_aki_hadms = df.loc[df['is_aki'], 'hadm_id'].nunique()\n",
    "    print(f'# unique aki hadms : {n_aki_hadms}\\n# unique hadms : {n_hadms}')\n",
    "\n",
    "    # Get unique combinations of 'hadm_id' and 'colname'\n",
    "    colname_hadm = df[['hadm_id', colname]].drop_duplicates()\n",
    "    colname_aki_hadm = df.loc[df['is_aki'], ['hadm_id', colname]].drop_duplicates()\n",
    "\n",
    "    # Compute counts of hadm_ids per colname\n",
    "    colname_hadm_counts = colname_hadm.groupby(colname)['hadm_id'].count()\n",
    "    colname_aki_hadm_counts = colname_aki_hadm.groupby(colname)['hadm_id'].count()\n",
    "\n",
    "    # Align indices\n",
    "    colname_all = colname_hadm_counts.index.union(colname_aki_hadm_counts.index)\n",
    "    colname_hadm_counts = colname_hadm_counts.reindex(colname_all, fill_value=0)\n",
    "    colname_aki_hadm_counts = colname_aki_hadm_counts.reindex(colname_all, fill_value=0)\n",
    "\n",
    "    # Perform z-test for proportions\n",
    "    code_test_pval = {}\n",
    "    print(f'Calculating p-values for every code...')\n",
    "    for k in tqdm(colname_all):\n",
    "        counts = np.array([colname_aki_hadm_counts[k], colname_hadm_counts[k] - colname_aki_hadm_counts[k]])\n",
    "        nobs = np.array([n_aki_hadms, n_hadms - n_aki_hadms])\n",
    "\n",
    "        if 0 not in nobs:\n",
    "            if 0 not in counts:\n",
    "                stat, pval = proportions_ztest(counts, nobs)\n",
    "                code_test_pval[k] = pval\n",
    "            elif counts[1] == 0:\n",
    "                code_test_pval[k] = 0\n",
    "            else:\n",
    "                print(f'Code {k} has 0 counts in AKI... wrong counting')\n",
    "        else:\n",
    "            print(f'Zero in nobs for code {k}')\n",
    "\n",
    "    aki_code_top = {k for k, v in code_test_pval.items() if v < 0.05}\n",
    "    print(f'There are {len(aki_code_top)} codes with p-value < 0.05.')\n",
    "\n",
    "    # Select codes with counts greater than the mean\n",
    "    code_top = colname_hadm_counts[colname_hadm_counts > colname_hadm_counts.mean()].index\n",
    "    print(f'# codes with count larger than mean: {len(code_top)}')\n",
    "\n",
    "    # Intersection of codes with p-value < 0.05 and counts > mean\n",
    "    final_aki_code_top = aki_code_top.intersection(code_top)\n",
    "    print(f'Finally, we got {len(final_aki_code_top)} codes to maintain.')\n",
    "\n",
    "    fact = list(final_aki_code_top)\n",
    "\n",
    "    # Create a new dataframe using pivot\n",
    "    print('\\nCreating new dataframe...')\n",
    "    df_filtered = df[df[colname].isin(fact)]\n",
    "    grouped = df_filtered.groupby(['subject_id', 'hadm_id', colname])[val_colname].mean().reset_index()\n",
    "    pivot_df = grouped.pivot(index=['subject_id', 'hadm_id'], columns=colname, values=val_colname).reset_index()\n",
    "    pivot_df = pivot_df.fillna(0)\n",
    "\n",
    "    # Prompt for column name prefix\n",
    "    prefix = input('Column name prefix: ')\n",
    "\n",
    "    # Rename columns\n",
    "    new_colnames = ['value_' + prefix + '_' + str(c) for c in pivot_df.columns if c not in ['subject_id', 'hadm_id']]\n",
    "    pivot_df.columns = ['subject_id', 'hadm_id'] + new_colnames\n",
    "\n",
    "    final_df = pivot_df\n",
    "\n",
    "    return final_aki_code_top, final_df"
   ]
  },
  {
   "cell_type": "code",
   "execution_count": 332,
   "metadata": {},
   "outputs": [],
   "source": [
    "def convert_to_datetime(datestr : str) :\n",
    "    if ':' in datestr:\n",
    "        date_time = datetime.datetime.strptime(datestr, '%Y-%m-%d %H:%M:%S')\n",
    "    else :\n",
    "        date_time = datetime.datetime.strptime(datestr, '%Y-%m-%d')\n",
    "    return date_time\n",
    "ingredients['hrs'] = (ingredients.starttime.apply(lambda x : convert_to_datetime(x)) - ingredients.endtime.apply(lambda x : convert_to_datetime(x))).apply(lambda x : round(x.seconds/3600))"
   ]
  },
  {
   "cell_type": "code",
   "execution_count": 333,
   "metadata": {},
   "outputs": [
    {
     "data": {
      "text/plain": [
       "Index(['subject_id', 'hadm_id', 'stay_id', 'caregiver_id', 'starttime',\n",
       "       'endtime', 'storetime', 'itemid', 'amount', 'amountuom', 'rate',\n",
       "       'rateuom', 'orderid', 'linkorderid', 'statusdescription',\n",
       "       'originalamount', 'originalrate', 'aki', 'hrs'],\n",
       "      dtype='object')"
      ]
     },
     "execution_count": 333,
     "metadata": {},
     "output_type": "execute_result"
    }
   ],
   "source": [
    "ingredients.columns"
   ]
  },
  {
   "cell_type": "code",
   "execution_count": 335,
   "metadata": {},
   "outputs": [],
   "source": [
    "ingredients = ingredients.drop(['stay_id', 'caregiver_id', 'starttime',\n",
    "       'endtime', 'storetime', 'amountuom', 'rate', \n",
    "       'rateuom', 'orderid', 'linkorderid', 'statusdescription',\n",
    "       'originalamount', 'originalrate'], axis =1)"
   ]
  },
  {
   "cell_type": "code",
   "execution_count": 336,
   "metadata": {},
   "outputs": [
    {
     "data": {
      "text/plain": [
       "Index(['subject_id', 'hadm_id', 'itemid', 'amount', 'aki', 'hrs'], dtype='object')"
      ]
     },
     "execution_count": 336,
     "metadata": {},
     "output_type": "execute_result"
    }
   ],
   "source": [
    "ingredients.columns"
   ]
  },
  {
   "cell_type": "code",
   "execution_count": 339,
   "metadata": {},
   "outputs": [
    {
     "name": "stdout",
     "output_type": "stream",
     "text": [
      "# unique aki hadms : 26930\n",
      "# unique hadms : 69117\n",
      "Calculating p-values for every code...\n"
     ]
    },
    {
     "name": "stderr",
     "output_type": "stream",
     "text": [
      "100%|██████████| 16/16 [00:00<00:00, 3835.01it/s]"
     ]
    },
    {
     "name": "stdout",
     "output_type": "stream",
     "text": [
      "There are 16 codes with p-value < 0.05.\n",
      "# codes with count larger than mean: 5\n",
      "Finally, we got 5 codes to maintain.\n",
      "\n",
      "Creating new dataframe...\n"
     ]
    },
    {
     "name": "stderr",
     "output_type": "stream",
     "text": [
      "\n"
     ]
    }
   ],
   "source": [
    "list, data = do_everything3(ingredients, 'itemid', 'amount')"
   ]
  },
  {
   "cell_type": "code",
   "execution_count": 342,
   "metadata": {},
   "outputs": [],
   "source": [
    "data.to_csv('final_ingredients.csv', index = False)\n",
    "\n",
    "os.remove('ingredients.csv')"
   ]
  }
 ],
 "metadata": {
  "kernelspec": {
   "display_name": "latest",
   "language": "python",
   "name": "python3"
  },
  "language_info": {
   "codemirror_mode": {
    "name": "ipython",
    "version": 3
   },
   "file_extension": ".py",
   "mimetype": "text/x-python",
   "name": "python",
   "nbconvert_exporter": "python",
   "pygments_lexer": "ipython3",
   "version": "3.9.7"
  }
 },
 "nbformat": 4,
 "nbformat_minor": 2
}
