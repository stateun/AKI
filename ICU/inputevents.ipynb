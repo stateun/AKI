{
 "cells": [
  {
   "cell_type": "markdown",
   "metadata": {},
   "source": [
    "# diagnoses_icd"
   ]
  },
  {
   "cell_type": "code",
   "execution_count": 1,
   "metadata": {},
   "outputs": [],
   "source": [
    "import pandas as pd"
   ]
  },
  {
   "cell_type": "code",
   "execution_count": 2,
   "metadata": {},
   "outputs": [],
   "source": [
    "diagnoses = pd.read_csv('/data/share/AKI/3.0/hosp/diagnoses_icd.csv.gz', compression = 'gzip')"
   ]
  },
  {
   "cell_type": "code",
   "execution_count": 3,
   "metadata": {},
   "outputs": [
    {
     "data": {
      "text/plain": [
       "Index(['subject_id', 'hadm_id', 'seq_num', 'icd_code', 'icd_version'], dtype='object')"
      ]
     },
     "execution_count": 3,
     "metadata": {},
     "output_type": "execute_result"
    }
   ],
   "source": [
    "diagnoses.columns"
   ]
  },
  {
   "cell_type": "code",
   "execution_count": 4,
   "metadata": {},
   "outputs": [
    {
     "name": "stdout",
     "output_type": "stream",
     "text": [
      "   subject_id   hadm_id  seq_num icd_code  icd_version\n",
      "0    10000032  22595853        1     5723            9\n",
      "1    10000032  22595853        2    78959            9\n",
      "2    10000032  22595853        3     5715            9\n",
      "3    10000032  22595853        4    07070            9\n",
      "4    10000032  22595853        5      496            9\n",
      "5    10000032  22595853        6    29680            9\n",
      "6    10000032  22595853        7    30981            9\n",
      "7    10000032  22595853        8    V1582            9\n",
      "8    10000032  22841357        1    07071            9\n",
      "9    10000032  22841357        2    78959            9\n",
      "-----------------\n",
      "(6364520, 5)\n"
     ]
    }
   ],
   "source": [
    "print(diagnoses.head(10))\n",
    "print('-----------------')\n",
    "print(diagnoses.shape)"
   ]
  },
  {
   "cell_type": "code",
   "execution_count": 5,
   "metadata": {},
   "outputs": [],
   "source": [
    "target_value = ['5845', '5846', '5847', '5848', '5849', '66930', '66932', '66934', 'N17', 'N170', 'N171', 'N172', 'N178', 'N179', 'Q904']"
   ]
  },
  {
   "cell_type": "code",
   "execution_count": 6,
   "metadata": {},
   "outputs": [],
   "source": [
    "diagnoses = diagnoses.drop(['seq_num', 'icd_version'], axis = 1)"
   ]
  },
  {
   "cell_type": "code",
   "execution_count": 7,
   "metadata": {},
   "outputs": [
    {
     "data": {
      "text/plain": [
       "'\\nwithout AKI 0.99\\nwith AKI 0.01\\n'"
      ]
     },
     "execution_count": 7,
     "metadata": {},
     "output_type": "execute_result"
    }
   ],
   "source": [
    "diagnoses['target'] = diagnoses['icd_code'].apply(lambda x : 1 if x in target_value else 0)\n",
    "diagnoses['target'].value_counts() \n",
    "\"\"\"\n",
    "without AKI 0.99\n",
    "with AKI 0.01\n",
    "\"\"\""
   ]
  },
  {
   "cell_type": "code",
   "execution_count": 8,
   "metadata": {},
   "outputs": [],
   "source": [
    "aki_list = diagnoses[diagnoses['target'] == 1]['hadm_id'].unique()\n",
    "not_aki_list = diagnoses[diagnoses['target'] == 0]['hadm_id'].unique()"
   ]
  },
  {
   "cell_type": "markdown",
   "metadata": {},
   "source": [
    "# Inputevents"
   ]
  },
  {
   "cell_type": "code",
   "execution_count": 9,
   "metadata": {},
   "outputs": [],
   "source": [
    "import gc\n",
    "import pandas as pd\n",
    "import os\n",
    "import numpy as np\n",
    "from tqdm import tqdm\n",
    "import datetime\n",
    "import matplotlib.pyplot as plt\n",
    "from statsmodels.stats.proportion import proportions_ztest\n",
    "\n",
    "icu_path = '/data/share/AKI/3.0/icu/'\n",
    "label_data = pd.read_csv('/home/stateun/aki_hadm.csv')\n",
    "\n",
    "label_subject = label_data['subject_id']\n",
    "label_hadm = label_data['hadm_id']\n",
    "label_aki = label_data['aki']"
   ]
  },
  {
   "cell_type": "code",
   "execution_count": 10,
   "metadata": {},
   "outputs": [],
   "source": [
    "inputevents = pd.read_csv('/data/share/AKI/3.0/icu/inputevents.csv.gz', compression = 'gzip')"
   ]
  },
  {
   "cell_type": "code",
   "execution_count": 11,
   "metadata": {},
   "outputs": [
    {
     "data": {
      "text/plain": [
       "Index(['subject_id', 'hadm_id', 'stay_id', 'caregiver_id', 'starttime',\n",
       "       'endtime', 'storetime', 'itemid', 'amount', 'amountuom', 'rate',\n",
       "       'rateuom', 'orderid', 'linkorderid', 'ordercategoryname',\n",
       "       'secondaryordercategoryname', 'ordercomponenttypedescription',\n",
       "       'ordercategorydescription', 'patientweight', 'totalamount',\n",
       "       'totalamountuom', 'isopenbag', 'continueinnextdept',\n",
       "       'statusdescription', 'originalamount', 'originalrate'],\n",
       "      dtype='object')"
      ]
     },
     "execution_count": 11,
     "metadata": {},
     "output_type": "execute_result"
    }
   ],
   "source": [
    "inputevents.columns"
   ]
  },
  {
   "cell_type": "code",
   "execution_count": 24,
   "metadata": {},
   "outputs": [
    {
     "ename": "AttributeError",
     "evalue": "'TextFileReader' object has no attribute 'drop'",
     "output_type": "error",
     "traceback": [
      "\u001b[0;31m---------------------------------------------------------------------------\u001b[0m",
      "\u001b[0;31mAttributeError\u001b[0m                            Traceback (most recent call last)",
      "Cell \u001b[0;32mIn[24], line 1\u001b[0m\n\u001b[0;32m----> 1\u001b[0m inputevents \u001b[38;5;241m=\u001b[39m \u001b[43minputevents\u001b[49m\u001b[38;5;241;43m.\u001b[39;49m\u001b[43mdrop\u001b[49m([\u001b[38;5;124m'\u001b[39m\u001b[38;5;124mstay_id\u001b[39m\u001b[38;5;124m'\u001b[39m, \u001b[38;5;124m'\u001b[39m\u001b[38;5;124mcaregiver_id\u001b[39m\u001b[38;5;124m'\u001b[39m, \u001b[38;5;124m'\u001b[39m\u001b[38;5;124mstarttime\u001b[39m\u001b[38;5;124m'\u001b[39m,\n\u001b[1;32m      2\u001b[0m        \u001b[38;5;124m'\u001b[39m\u001b[38;5;124mendtime\u001b[39m\u001b[38;5;124m'\u001b[39m, \u001b[38;5;124m'\u001b[39m\u001b[38;5;124mstoretime\u001b[39m\u001b[38;5;124m'\u001b[39m,\u001b[38;5;124m'\u001b[39m\u001b[38;5;124mamountuom\u001b[39m\u001b[38;5;124m'\u001b[39m, \u001b[38;5;124m'\u001b[39m\u001b[38;5;124mrate\u001b[39m\u001b[38;5;124m'\u001b[39m,\n\u001b[1;32m      3\u001b[0m        \u001b[38;5;124m'\u001b[39m\u001b[38;5;124mrateuom\u001b[39m\u001b[38;5;124m'\u001b[39m, \u001b[38;5;124m'\u001b[39m\u001b[38;5;124morderid\u001b[39m\u001b[38;5;124m'\u001b[39m, \u001b[38;5;124m'\u001b[39m\u001b[38;5;124mlinkorderid\u001b[39m\u001b[38;5;124m'\u001b[39m, \u001b[38;5;124m'\u001b[39m\u001b[38;5;124mordercategoryname\u001b[39m\u001b[38;5;124m'\u001b[39m,\n\u001b[1;32m      4\u001b[0m        \u001b[38;5;124m'\u001b[39m\u001b[38;5;124msecondaryordercategoryname\u001b[39m\u001b[38;5;124m'\u001b[39m, \u001b[38;5;124m'\u001b[39m\u001b[38;5;124mordercomponenttypedescription\u001b[39m\u001b[38;5;124m'\u001b[39m,\n\u001b[1;32m      5\u001b[0m        \u001b[38;5;124m'\u001b[39m\u001b[38;5;124mordercategorydescription\u001b[39m\u001b[38;5;124m'\u001b[39m, \u001b[38;5;124m'\u001b[39m\u001b[38;5;124mpatientweight\u001b[39m\u001b[38;5;124m'\u001b[39m, \u001b[38;5;124m'\u001b[39m\u001b[38;5;124mtotalamount\u001b[39m\u001b[38;5;124m'\u001b[39m,\n\u001b[1;32m      6\u001b[0m        \u001b[38;5;124m'\u001b[39m\u001b[38;5;124mtotalamountuom\u001b[39m\u001b[38;5;124m'\u001b[39m, \u001b[38;5;124m'\u001b[39m\u001b[38;5;124misopenbag\u001b[39m\u001b[38;5;124m'\u001b[39m, \u001b[38;5;124m'\u001b[39m\u001b[38;5;124mcontinueinnextdept\u001b[39m\u001b[38;5;124m'\u001b[39m,\n\u001b[1;32m      7\u001b[0m        \u001b[38;5;124m'\u001b[39m\u001b[38;5;124mstatusdescription\u001b[39m\u001b[38;5;124m'\u001b[39m, \u001b[38;5;124m'\u001b[39m\u001b[38;5;124moriginalamount\u001b[39m\u001b[38;5;124m'\u001b[39m, \u001b[38;5;124m'\u001b[39m\u001b[38;5;124moriginalrate\u001b[39m\u001b[38;5;124m'\u001b[39m], axis\u001b[38;5;241m=\u001b[39m \u001b[38;5;241m1\u001b[39m)\n",
      "\u001b[0;31mAttributeError\u001b[0m: 'TextFileReader' object has no attribute 'drop'"
     ]
    }
   ],
   "source": [
    "inputevents = inputevents.drop(['stay_id', 'caregiver_id', 'starttime',\n",
    "       'endtime', 'storetime','amountuom', 'rate',\n",
    "       'rateuom', 'orderid', 'linkorderid', 'ordercategoryname',\n",
    "       'secondaryordercategoryname', 'ordercomponenttypedescription',\n",
    "       'ordercategorydescription', 'patientweight', 'totalamount',\n",
    "       'totalamountuom', 'isopenbag', 'continueinnextdept',\n",
    "       'statusdescription', 'originalamount', 'originalrate'], axis= 1)"
   ]
  },
  {
   "cell_type": "code",
   "execution_count": 12,
   "metadata": {},
   "outputs": [
    {
     "data": {
      "text/plain": [
       "0"
      ]
     },
     "execution_count": 12,
     "metadata": {},
     "output_type": "execute_result"
    }
   ],
   "source": [
    "# Check the nan value\n",
    "sum(inputevents['amount'].isna())"
   ]
  },
  {
   "cell_type": "code",
   "execution_count": 13,
   "metadata": {},
   "outputs": [
    {
     "data": {
      "text/plain": [
       "dtype('float64')"
      ]
     },
     "execution_count": 13,
     "metadata": {},
     "output_type": "execute_result"
    }
   ],
   "source": [
    "inputevents['amount'].dtypes"
   ]
  },
  {
   "cell_type": "code",
   "execution_count": 14,
   "metadata": {},
   "outputs": [
    {
     "data": {
      "text/html": [
       "<div>\n",
       "<style scoped>\n",
       "    .dataframe tbody tr th:only-of-type {\n",
       "        vertical-align: middle;\n",
       "    }\n",
       "\n",
       "    .dataframe tbody tr th {\n",
       "        vertical-align: top;\n",
       "    }\n",
       "\n",
       "    .dataframe thead th {\n",
       "        text-align: right;\n",
       "    }\n",
       "</style>\n",
       "<table border=\"1\" class=\"dataframe\">\n",
       "  <thead>\n",
       "    <tr style=\"text-align: right;\">\n",
       "      <th></th>\n",
       "      <th>itemid</th>\n",
       "      <th>min</th>\n",
       "      <th>max</th>\n",
       "      <th>mean</th>\n",
       "      <th>Q1-1.5*IQR</th>\n",
       "      <th>Q3+1.5*IQR</th>\n",
       "    </tr>\n",
       "  </thead>\n",
       "  <tbody>\n",
       "    <tr>\n",
       "      <th>0</th>\n",
       "      <td>220862</td>\n",
       "      <td>0.222346</td>\n",
       "      <td>999.999976</td>\n",
       "      <td>73.122153</td>\n",
       "      <td>-24.999999</td>\n",
       "      <td>174.999996</td>\n",
       "    </tr>\n",
       "    <tr>\n",
       "      <th>1</th>\n",
       "      <td>220864</td>\n",
       "      <td>2.083333</td>\n",
       "      <td>1499.999943</td>\n",
       "      <td>338.729269</td>\n",
       "      <td>-124.999995</td>\n",
       "      <td>874.999967</td>\n",
       "    </tr>\n",
       "    <tr>\n",
       "      <th>2</th>\n",
       "      <td>220949</td>\n",
       "      <td>-8.242694</td>\n",
       "      <td>100500.000000</td>\n",
       "      <td>110.863365</td>\n",
       "      <td>-186.823626</td>\n",
       "      <td>356.441368</td>\n",
       "    </tr>\n",
       "    <tr>\n",
       "      <th>3</th>\n",
       "      <td>220950</td>\n",
       "      <td>0.083333</td>\n",
       "      <td>1999.999952</td>\n",
       "      <td>342.049966</td>\n",
       "      <td>-615.522533</td>\n",
       "      <td>1219.313520</td>\n",
       "    </tr>\n",
       "    <tr>\n",
       "      <th>4</th>\n",
       "      <td>220952</td>\n",
       "      <td>0.000000</td>\n",
       "      <td>240.000000</td>\n",
       "      <td>32.547609</td>\n",
       "      <td>-12.500000</td>\n",
       "      <td>87.500000</td>\n",
       "    </tr>\n",
       "    <tr>\n",
       "      <th>5</th>\n",
       "      <td>220970</td>\n",
       "      <td>0.136187</td>\n",
       "      <td>13800.000000</td>\n",
       "      <td>294.980042</td>\n",
       "      <td>227.499976</td>\n",
       "      <td>367.500014</td>\n",
       "    </tr>\n",
       "    <tr>\n",
       "      <th>6</th>\n",
       "      <td>220995</td>\n",
       "      <td>0.037500</td>\n",
       "      <td>7545.778503</td>\n",
       "      <td>101.987106</td>\n",
       "      <td>-109.687500</td>\n",
       "      <td>305.812500</td>\n",
       "    </tr>\n",
       "    <tr>\n",
       "      <th>7</th>\n",
       "      <td>221036</td>\n",
       "      <td>0.100004</td>\n",
       "      <td>4999.999924</td>\n",
       "      <td>323.892943</td>\n",
       "      <td>-428.970757</td>\n",
       "      <td>1003.047835</td>\n",
       "    </tr>\n",
       "    <tr>\n",
       "      <th>8</th>\n",
       "      <td>221207</td>\n",
       "      <td>0.583440</td>\n",
       "      <td>2600.000000</td>\n",
       "      <td>369.492998</td>\n",
       "      <td>-494.333495</td>\n",
       "      <td>1096.507992</td>\n",
       "    </tr>\n",
       "    <tr>\n",
       "      <th>9</th>\n",
       "      <td>221261</td>\n",
       "      <td>0.429139</td>\n",
       "      <td>7.494624</td>\n",
       "      <td>5.201391</td>\n",
       "      <td>-0.141747</td>\n",
       "      <td>11.363121</td>\n",
       "    </tr>\n",
       "    <tr>\n",
       "      <th>10</th>\n",
       "      <td>221282</td>\n",
       "      <td>0.000000</td>\n",
       "      <td>18.000000</td>\n",
       "      <td>7.168604</td>\n",
       "      <td>6.000000</td>\n",
       "      <td>6.000000</td>\n",
       "    </tr>\n",
       "    <tr>\n",
       "      <th>11</th>\n",
       "      <td>221289</td>\n",
       "      <td>0.000112</td>\n",
       "      <td>1707.178021</td>\n",
       "      <td>1.073250</td>\n",
       "      <td>-1.404739</td>\n",
       "      <td>2.611329</td>\n",
       "    </tr>\n",
       "    <tr>\n",
       "      <th>12</th>\n",
       "      <td>221319</td>\n",
       "      <td>0.004000</td>\n",
       "      <td>100.000000</td>\n",
       "      <td>15.378143</td>\n",
       "      <td>-9.780729</td>\n",
       "      <td>25.181770</td>\n",
       "    </tr>\n",
       "    <tr>\n",
       "      <th>13</th>\n",
       "      <td>221342</td>\n",
       "      <td>67.518244</td>\n",
       "      <td>249.999993</td>\n",
       "      <td>231.731522</td>\n",
       "      <td>245.312546</td>\n",
       "      <td>252.812448</td>\n",
       "    </tr>\n",
       "    <tr>\n",
       "      <th>14</th>\n",
       "      <td>221347</td>\n",
       "      <td>0.000000</td>\n",
       "      <td>900.000019</td>\n",
       "      <td>235.795574</td>\n",
       "      <td>-90.185254</td>\n",
       "      <td>550.308754</td>\n",
       "    </tr>\n",
       "    <tr>\n",
       "      <th>15</th>\n",
       "      <td>221385</td>\n",
       "      <td>0.000000</td>\n",
       "      <td>61.700000</td>\n",
       "      <td>1.144468</td>\n",
       "      <td>-0.250000</td>\n",
       "      <td>1.750000</td>\n",
       "    </tr>\n",
       "    <tr>\n",
       "      <th>16</th>\n",
       "      <td>221393</td>\n",
       "      <td>0.000000</td>\n",
       "      <td>149.999999</td>\n",
       "      <td>1.160039</td>\n",
       "      <td>-0.250000</td>\n",
       "      <td>1.750000</td>\n",
       "    </tr>\n",
       "    <tr>\n",
       "      <th>17</th>\n",
       "      <td>221429</td>\n",
       "      <td>0.395372</td>\n",
       "      <td>12609.297072</td>\n",
       "      <td>930.342315</td>\n",
       "      <td>-2106.530271</td>\n",
       "      <td>4064.718341</td>\n",
       "    </tr>\n",
       "    <tr>\n",
       "      <th>18</th>\n",
       "      <td>221456</td>\n",
       "      <td>0.000556</td>\n",
       "      <td>199.999995</td>\n",
       "      <td>2.280269</td>\n",
       "      <td>2.000000</td>\n",
       "      <td>2.000000</td>\n",
       "    </tr>\n",
       "    <tr>\n",
       "      <th>19</th>\n",
       "      <td>221468</td>\n",
       "      <td>0.000000</td>\n",
       "      <td>146.299988</td>\n",
       "      <td>33.734092</td>\n",
       "      <td>-53.637140</td>\n",
       "      <td>107.382279</td>\n",
       "    </tr>\n",
       "  </tbody>\n",
       "</table>\n",
       "</div>"
      ],
      "text/plain": [
       "    itemid        min            max        mean   Q1-1.5*IQR   Q3+1.5*IQR\n",
       "0   220862   0.222346     999.999976   73.122153   -24.999999   174.999996\n",
       "1   220864   2.083333    1499.999943  338.729269  -124.999995   874.999967\n",
       "2   220949  -8.242694  100500.000000  110.863365  -186.823626   356.441368\n",
       "3   220950   0.083333    1999.999952  342.049966  -615.522533  1219.313520\n",
       "4   220952   0.000000     240.000000   32.547609   -12.500000    87.500000\n",
       "5   220970   0.136187   13800.000000  294.980042   227.499976   367.500014\n",
       "6   220995   0.037500    7545.778503  101.987106  -109.687500   305.812500\n",
       "7   221036   0.100004    4999.999924  323.892943  -428.970757  1003.047835\n",
       "8   221207   0.583440    2600.000000  369.492998  -494.333495  1096.507992\n",
       "9   221261   0.429139       7.494624    5.201391    -0.141747    11.363121\n",
       "10  221282   0.000000      18.000000    7.168604     6.000000     6.000000\n",
       "11  221289   0.000112    1707.178021    1.073250    -1.404739     2.611329\n",
       "12  221319   0.004000     100.000000   15.378143    -9.780729    25.181770\n",
       "13  221342  67.518244     249.999993  231.731522   245.312546   252.812448\n",
       "14  221347   0.000000     900.000019  235.795574   -90.185254   550.308754\n",
       "15  221385   0.000000      61.700000    1.144468    -0.250000     1.750000\n",
       "16  221393   0.000000     149.999999    1.160039    -0.250000     1.750000\n",
       "17  221429   0.395372   12609.297072  930.342315 -2106.530271  4064.718341\n",
       "18  221456   0.000556     199.999995    2.280269     2.000000     2.000000\n",
       "19  221468   0.000000     146.299988   33.734092   -53.637140   107.382279"
      ]
     },
     "execution_count": 14,
     "metadata": {},
     "output_type": "execute_result"
    }
   ],
   "source": [
    "\"\"\"\n",
    "Check the Outlier\n",
    "\"\"\"\n",
    "\n",
    "def compute_stats(group):\n",
    "    min_val = group.min()\n",
    "    max_val = group.max()\n",
    "    mean = group.mean()\n",
    "    q1 = group.quantile(0.25)\n",
    "    q3 = group.quantile(0.75)\n",
    "    iqr = q3 - q1\n",
    "    lower_fence = q1 - 1.5 * iqr\n",
    "    upper_fence = q3 + 1.5 * iqr\n",
    "    return pd.Series({'min': min_val, 'max': max_val,'mean' : mean, 'Q1-1.5*IQR' : lower_fence ,'Q3+1.5*IQR': upper_fence})\n",
    "\n",
    "stats = inputevents.groupby('itemid')['amount'].apply(compute_stats).unstack().reset_index()\n",
    "stats.head(20)"
   ]
  },
  {
   "cell_type": "code",
   "execution_count": 16,
   "metadata": {},
   "outputs": [
    {
     "data": {
      "text/plain": [
       "{'whiskers': [<matplotlib.lines.Line2D at 0x7f7f858fc1c0>,\n",
       "  <matplotlib.lines.Line2D at 0x7f7f858fc460>],\n",
       " 'caps': [<matplotlib.lines.Line2D at 0x7f7f858fc700>,\n",
       "  <matplotlib.lines.Line2D at 0x7f7f858fc9a0>],\n",
       " 'boxes': [<matplotlib.lines.Line2D at 0x7f7f858eaee0>],\n",
       " 'medians': [<matplotlib.lines.Line2D at 0x7f7f858fcc40>],\n",
       " 'fliers': [<matplotlib.lines.Line2D at 0x7f7f858fcee0>],\n",
       " 'means': []}"
      ]
     },
     "execution_count": 16,
     "metadata": {},
     "output_type": "execute_result"
    },
    {
     "data": {
      "image/png": "[encoded data removed]",
      "text/plain": [
       "<Figure size 640x480 with 1 Axes>"
      ]
     },
     "metadata": {},
     "output_type": "display_data"
    }
   ],
   "source": [
    "plt.boxplot(inputevents[(inputevents['itemid'] == 220949)]['amount'])"
   ]
  },
  {
   "cell_type": "code",
   "execution_count": 22,
   "metadata": {},
   "outputs": [
    {
     "data": {
      "text/plain": [
       "{'whiskers': [<matplotlib.lines.Line2D at 0x7f7f84e7cc40>,\n",
       "  <matplotlib.lines.Line2D at 0x7f7f84e7cee0>],\n",
       " 'caps': [<matplotlib.lines.Line2D at 0x7f7f84e8d1c0>,\n",
       "  <matplotlib.lines.Line2D at 0x7f7f84e8d460>],\n",
       " 'boxes': [<matplotlib.lines.Line2D at 0x7f7f84e7c9a0>],\n",
       " 'medians': [<matplotlib.lines.Line2D at 0x7f7f84e8d700>],\n",
       " 'fliers': [<matplotlib.lines.Line2D at 0x7f7f84e8d9a0>],\n",
       " 'means': []}"
      ]
     },
     "execution_count": 22,
     "metadata": {},
     "output_type": "execute_result"
    },
    {
     "data": {
      "image/png": "[encoded data removed]",
      "text/plain": [
       "<Figure size 640x480 with 1 Axes>"
      ]
     },
     "metadata": {},
     "output_type": "display_data"
    }
   ],
   "source": [
    "plt.boxplot(inputevents[(inputevents['itemid'] ==  220949) & (inputevents['amount'] < 2000)]['amount'])"
   ]
  },
  {
   "cell_type": "code",
   "execution_count": 23,
   "metadata": {},
   "outputs": [
    {
     "name": "stderr",
     "output_type": "stream",
     "text": [
      "Processing chunks: 0it [00:00, ?it/s]"
     ]
    },
    {
     "name": "stdout",
     "output_type": "stream",
     "text": [
      "0-th preprocessing complete.\n"
     ]
    },
    {
     "name": "stderr",
     "output_type": "stream",
     "text": [
      "Processing chunks: 1it [00:15, 15.70s/it]"
     ]
    },
    {
     "name": "stdout",
     "output_type": "stream",
     "text": [
      "1-th preprocessing complete.\n"
     ]
    },
    {
     "name": "stderr",
     "output_type": "stream",
     "text": [
      "Processing chunks: 3it [00:48, 16.31s/it]"
     ]
    },
    {
     "name": "stdout",
     "output_type": "stream",
     "text": [
      "2-th preprocessing complete.\n"
     ]
    },
    {
     "name": "stderr",
     "output_type": "stream",
     "text": [
      "Processing chunks: 4it [01:04, 16.01s/it]"
     ]
    },
    {
     "name": "stdout",
     "output_type": "stream",
     "text": [
      "3-th preprocessing complete.\n"
     ]
    },
    {
     "name": "stderr",
     "output_type": "stream",
     "text": [
      "Processing chunks: 5it [01:20, 15.98s/it]"
     ]
    },
    {
     "name": "stdout",
     "output_type": "stream",
     "text": [
      "4-th preprocessing complete.\n"
     ]
    },
    {
     "name": "stderr",
     "output_type": "stream",
     "text": [
      "Processing chunks: 6it [01:35, 15.69s/it]"
     ]
    },
    {
     "name": "stdout",
     "output_type": "stream",
     "text": [
      "5-th preprocessing complete.\n"
     ]
    },
    {
     "name": "stderr",
     "output_type": "stream",
     "text": [
      "Processing chunks: 7it [01:50, 15.43s/it]"
     ]
    },
    {
     "name": "stdout",
     "output_type": "stream",
     "text": [
      "6-th preprocessing complete.\n"
     ]
    },
    {
     "name": "stderr",
     "output_type": "stream",
     "text": [
      "Processing chunks: 8it [02:05, 15.26s/it]"
     ]
    },
    {
     "name": "stdout",
     "output_type": "stream",
     "text": [
      "7-th preprocessing complete.\n"
     ]
    },
    {
     "name": "stderr",
     "output_type": "stream",
     "text": [
      "Processing chunks: 9it [02:20, 15.21s/it]"
     ]
    },
    {
     "name": "stdout",
     "output_type": "stream",
     "text": [
      "8-th preprocessing complete.\n"
     ]
    },
    {
     "name": "stderr",
     "output_type": "stream",
     "text": [
      "Processing chunks: 10it [02:34, 15.05s/it]"
     ]
    },
    {
     "name": "stdout",
     "output_type": "stream",
     "text": [
      "9-th preprocessing complete.\n"
     ]
    },
    {
     "name": "stderr",
     "output_type": "stream",
     "text": [
      "Processing chunks: 11it [02:48, 15.35s/it]"
     ]
    },
    {
     "name": "stdout",
     "output_type": "stream",
     "text": [
      "10-th preprocessing complete.\n"
     ]
    },
    {
     "name": "stderr",
     "output_type": "stream",
     "text": [
      "\n"
     ]
    }
   ],
   "source": [
    "\"\"\"\n",
    "Remove the Outlier\n",
    "\"\"\"\n",
    "\n",
    "inputevents = pd.read_csv(icu_path + 'inputevents.csv.gz', compression='gzip', chunksize=10**6)\n",
    "\n",
    "for i, chunk in enumerate(tqdm(inputevents, desc='Processing chunks')):\n",
    "\n",
    "    chunk = chunk.merge(stats[['itemid', 'Q1-1.5*IQR', 'Q3+1.5*IQR']], on='itemid', how='left')\n",
    "    chunk.head(5)\n",
    "\n",
    "    chunk.dropna(subset=['Q1-1.5*IQR', 'Q3+1.5*IQR'], inplace=True)\n",
    "\n",
    "    mask = (chunk['amount'] >= chunk['Q1-1.5*IQR']) & (chunk['amount'] <= chunk['Q3+1.5*IQR'])\n",
    "    chunk = chunk[mask]\n",
    "\n",
    "    chunk.drop(['Q1-1.5*IQR', 'Q3+1.5*IQR'], axis=1, inplace=True)\n",
    "\n",
    "    chunk.to_csv(f'preprocessing_inputevents_{i}.csv', index=False)\n",
    "    \n",
    "    print(f'{i}-th preprocessing complete.')\n",
    "\n",
    "    del chunk\n",
    "    gc.collect()"
   ]
  },
  {
   "cell_type": "code",
   "execution_count": 25,
   "metadata": {},
   "outputs": [
    {
     "data": {
      "text/html": [
       "<div>\n",
       "<style scoped>\n",
       "    .dataframe tbody tr th:only-of-type {\n",
       "        vertical-align: middle;\n",
       "    }\n",
       "\n",
       "    .dataframe tbody tr th {\n",
       "        vertical-align: top;\n",
       "    }\n",
       "\n",
       "    .dataframe thead th {\n",
       "        text-align: right;\n",
       "    }\n",
       "</style>\n",
       "<table border=\"1\" class=\"dataframe\">\n",
       "  <thead>\n",
       "    <tr style=\"text-align: right;\">\n",
       "      <th></th>\n",
       "      <th>itemid</th>\n",
       "      <th>min</th>\n",
       "      <th>max</th>\n",
       "      <th>mean</th>\n",
       "      <th>Q1-1.5*IQR</th>\n",
       "      <th>Q3+1.5*IQR</th>\n",
       "    </tr>\n",
       "  </thead>\n",
       "  <tbody>\n",
       "    <tr>\n",
       "      <th>0</th>\n",
       "      <td>220862</td>\n",
       "      <td>0.222346</td>\n",
       "      <td>999.999976</td>\n",
       "      <td>73.122153</td>\n",
       "      <td>-24.999999</td>\n",
       "      <td>174.999996</td>\n",
       "    </tr>\n",
       "    <tr>\n",
       "      <th>1</th>\n",
       "      <td>220864</td>\n",
       "      <td>2.083333</td>\n",
       "      <td>1499.999943</td>\n",
       "      <td>338.729269</td>\n",
       "      <td>-124.999995</td>\n",
       "      <td>874.999967</td>\n",
       "    </tr>\n",
       "    <tr>\n",
       "      <th>2</th>\n",
       "      <td>220949</td>\n",
       "      <td>-8.242694</td>\n",
       "      <td>100500.000000</td>\n",
       "      <td>110.863365</td>\n",
       "      <td>-186.823626</td>\n",
       "      <td>356.441368</td>\n",
       "    </tr>\n",
       "    <tr>\n",
       "      <th>3</th>\n",
       "      <td>220950</td>\n",
       "      <td>0.083333</td>\n",
       "      <td>1999.999952</td>\n",
       "      <td>342.049966</td>\n",
       "      <td>-615.522533</td>\n",
       "      <td>1219.313520</td>\n",
       "    </tr>\n",
       "    <tr>\n",
       "      <th>4</th>\n",
       "      <td>220952</td>\n",
       "      <td>0.000000</td>\n",
       "      <td>240.000000</td>\n",
       "      <td>32.547609</td>\n",
       "      <td>-12.500000</td>\n",
       "      <td>87.500000</td>\n",
       "    </tr>\n",
       "  </tbody>\n",
       "</table>\n",
       "</div>"
      ],
      "text/plain": [
       "   itemid       min            max        mean  Q1-1.5*IQR   Q3+1.5*IQR\n",
       "0  220862  0.222346     999.999976   73.122153  -24.999999   174.999996\n",
       "1  220864  2.083333    1499.999943  338.729269 -124.999995   874.999967\n",
       "2  220949 -8.242694  100500.000000  110.863365 -186.823626   356.441368\n",
       "3  220950  0.083333    1999.999952  342.049966 -615.522533  1219.313520\n",
       "4  220952  0.000000     240.000000   32.547609  -12.500000    87.500000"
      ]
     },
     "execution_count": 25,
     "metadata": {},
     "output_type": "execute_result"
    }
   ],
   "source": [
    "stats.head(5)"
   ]
  },
  {
   "cell_type": "code",
   "execution_count": 26,
   "metadata": {},
   "outputs": [
    {
     "name": "stdout",
     "output_type": "stream",
     "text": [
      "1/10번째 파일 처리 완료: preprocessing_inputevents_0.csv\n",
      "2/10번째 파일 처리 완료: preprocessing_inputevents_1.csv\n",
      "3/10번째 파일 처리 완료: preprocessing_inputevents_2.csv\n",
      "4/10번째 파일 처리 완료: preprocessing_inputevents_3.csv\n",
      "5/10번째 파일 처리 완료: preprocessing_inputevents_4.csv\n",
      "6/10번째 파일 처리 완료: preprocessing_inputevents_5.csv\n",
      "7/10번째 파일 처리 완료: preprocessing_inputevents_6.csv\n",
      "8/10번째 파일 처리 완료: preprocessing_inputevents_7.csv\n",
      "9/10번째 파일 처리 완료: preprocessing_inputevents_8.csv\n",
      "10/10번째 파일 처리 완료: preprocessing_inputevents_9.csv\n",
      "모든 파일이 성공적으로 병합되었습니다.\n"
     ]
    }
   ],
   "source": [
    "file_path = '/home/stateun/'\n",
    "output_file = '/home/stateun/inputevents.csv'\n",
    "\n",
    "for i in range(0,10):\n",
    "    file_name = f'preprocessing_inputevents_{i}.csv'\n",
    "    full_path = os.path.join(file_path, file_name)\n",
    "    \n",
    "    chunk = pd.read_csv(full_path)\n",
    "    if i == 1:\n",
    "        chunk.to_csv(output_file, mode='w', index=False)\n",
    "    else:\n",
    "        chunk.to_csv(output_file, mode='a', index=False, header=False)\n",
    "        \n",
    "    print(f'{i+1}/{10}번째 파일 처리 완료: {file_name}')\n",
    "    \n",
    "    try :\n",
    "        os.remove(full_path)\n",
    "    except Exception as e:\n",
    "        print(f'{file_name} 파일 삭제 중 오류 발생 : {e}')\n",
    "    \n",
    "print('모든 파일이 성공적으로 병합되었습니다.')"
   ]
  },
  {
   "cell_type": "code",
   "execution_count": 27,
   "metadata": {},
   "outputs": [],
   "source": [
    "inputevents = pd.read_csv('/home/stateun/inputevents.csv')"
   ]
  },
  {
   "cell_type": "code",
   "execution_count": 28,
   "metadata": {},
   "outputs": [],
   "source": [
    "aki_hadms = inputevents.loc[inputevents['hadm_id'].isin(aki_list)]['hadm_id'].unique().tolist()"
   ]
  },
  {
   "cell_type": "code",
   "execution_count": 29,
   "metadata": {},
   "outputs": [],
   "source": [
    "hadm_ids = inputevents.hadm_id.unique().tolist()\n",
    "aki_hadms_set = set(aki_hadms)\n",
    "hadm_aki_dict = {'hadm_id' : hadm_ids, 'aki':[int(h in aki_hadms_set) for h in hadm_ids]}\n",
    "hadm_aki_df = pd.DataFrame(hadm_aki_dict)"
   ]
  },
  {
   "cell_type": "code",
   "execution_count": 30,
   "metadata": {},
   "outputs": [],
   "source": [
    "# 1\n",
    "inputevents['aki'] = inputevents['hadm_id'].apply(lambda x : 1 if  x in aki_list else 0)"
   ]
  },
  {
   "cell_type": "code",
   "execution_count": 293,
   "metadata": {},
   "outputs": [],
   "source": [
    "# 2\n",
    "inputevents['aki'] = inputevents['hadm_id'].isin(aki_list).astype(int)"
   ]
  },
  {
   "cell_type": "code",
   "execution_count": 31,
   "metadata": {},
   "outputs": [],
   "source": [
    "inputevents_icd = inputevents[['subject_id', 'hadm_id']].drop_duplicates()\n",
    "hadm_to_subject = {str(h):s for s, h in zip(inputevents_icd.subject_id.tolist(), inputevents_icd.hadm_id.tolist())}\n",
    "aki_subject = [s for h, s in hadm_to_subject.items() if int(h) in aki_hadms_set]"
   ]
  },
  {
   "cell_type": "code",
   "execution_count": 32,
   "metadata": {},
   "outputs": [],
   "source": [
    "# Simple code\n",
    "aki_subject = inputevents[inputevents['hadm_id'].isin(aki_list)]['subject_id'].tolist()"
   ]
  },
  {
   "cell_type": "code",
   "execution_count": 33,
   "metadata": {},
   "outputs": [],
   "source": [
    "aki_subject_set = set(aki_subject)"
   ]
  },
  {
   "cell_type": "code",
   "execution_count": 34,
   "metadata": {},
   "outputs": [
    {
     "name": "stderr",
     "output_type": "stream",
     "text": [
      "  0%|          | 0/48367 [00:00<?, ?it/s]/usr/local/anaconda3/envs/latest/lib/python3.9/site-packages/tqdm/std.py:1195: FutureWarning: In a future version of pandas, a length 1 tuple will be returned when iterating over a groupby with a grouper equal to a list of length 1. Don't supply a list with a single grouper to avoid this warning.\n",
      "  for obj in iterable:\n",
      "100%|██████████| 48367/48367 [00:10<00:00, 4568.59it/s]\n"
     ]
    }
   ],
   "source": [
    "aki_first_prev_hadm = []\n",
    "aki_last_prev_hadm = []\n",
    "aki_subject_for_check = []\n",
    "for key, df in tqdm(inputevents_icd.groupby(by = ['subject_id'])):\n",
    "    had_aki = list(set(df.hadm_id).intersection(aki_hadms_set))\n",
    "    if had_aki:\n",
    "        first_h = np.array(had_aki).min()\n",
    "        last_h = np.array(had_aki).max()\n",
    "        first_prev_h = df.loc[df.hadm_id <= first_h, 'hadm_id'].tolist()\n",
    "        last_prev_h = df.loc[df.hadm_id <= last_h, 'hadm_id'].tolist()\n",
    "        aki_first_prev_hadm.extend(first_prev_h)\n",
    "        aki_last_prev_hadm.append(last_prev_h)\n",
    "        aki_subject_for_check.append(key)"
   ]
  },
  {
   "cell_type": "code",
   "execution_count": 35,
   "metadata": {},
   "outputs": [],
   "source": [
    "from statsmodels.stats.proportion import proportions_ztest"
   ]
  },
  {
   "cell_type": "code",
   "execution_count": 36,
   "metadata": {},
   "outputs": [],
   "source": [
    "def do_everything3(df, colname, val_colname):\n",
    "    # Exclude rows where 'hadm_id' is null\n",
    "    df = df.loc[~df['hadm_id'].isnull(), :]\n",
    "\n",
    "    # Create 'is_aki' column to identify AKI subjects\n",
    "    df['is_aki'] = df['subject_id'].isin(aki_subject_set)\n",
    "\n",
    "    # Calculate the number of unique hadm_ids\n",
    "    n_hadms = df['hadm_id'].nunique()\n",
    "    n_aki_hadms = df.loc[df['is_aki'], 'hadm_id'].nunique()\n",
    "    print(f'# unique aki hadms : {n_aki_hadms}\\n# unique hadms : {n_hadms}')\n",
    "\n",
    "    # Get unique combinations of 'hadm_id' and 'colname'\n",
    "    colname_hadm = df[['hadm_id', colname]].drop_duplicates()\n",
    "    colname_aki_hadm = df.loc[df['is_aki'], ['hadm_id', colname]].drop_duplicates()\n",
    "\n",
    "    # Compute counts of hadm_ids per colname\n",
    "    colname_hadm_counts = colname_hadm.groupby(colname)['hadm_id'].count()\n",
    "    colname_aki_hadm_counts = colname_aki_hadm.groupby(colname)['hadm_id'].count()\n",
    "\n",
    "    # Align indices\n",
    "    colname_all = colname_hadm_counts.index.union(colname_aki_hadm_counts.index)\n",
    "    colname_hadm_counts = colname_hadm_counts.reindex(colname_all, fill_value=0)\n",
    "    colname_aki_hadm_counts = colname_aki_hadm_counts.reindex(colname_all, fill_value=0)\n",
    "\n",
    "    # Perform z-test for proportions\n",
    "    code_test_pval = {}\n",
    "    print(f'Calculating p-values for every code...')\n",
    "    for k in tqdm(colname_all):\n",
    "        counts = np.array([colname_aki_hadm_counts[k], colname_hadm_counts[k] - colname_aki_hadm_counts[k]])\n",
    "        nobs = np.array([n_aki_hadms, n_hadms - n_aki_hadms])\n",
    "\n",
    "        if 0 not in nobs:\n",
    "            if 0 not in counts:\n",
    "                stat, pval = proportions_ztest(counts, nobs)\n",
    "                code_test_pval[k] = pval\n",
    "            elif counts[1] == 0:\n",
    "                code_test_pval[k] = 0\n",
    "            else:\n",
    "                print(f'Code {k} has 0 counts in AKI... wrong counting')\n",
    "        else:\n",
    "            print(f'Zero in nobs for code {k}')\n",
    "\n",
    "    aki_code_top = {k for k, v in code_test_pval.items() if v < 0.05}\n",
    "    print(f'There are {len(aki_code_top)} codes with p-value < 0.05.')\n",
    "\n",
    "    # Select codes with counts greater than the mean\n",
    "    code_top = colname_hadm_counts[colname_hadm_counts > colname_hadm_counts.mean()].index\n",
    "    print(f'# codes with count larger than mean: {len(code_top)}')\n",
    "\n",
    "    # Intersection of codes with p-value < 0.05 and counts > mean\n",
    "    final_aki_code_top = aki_code_top.intersection(code_top)\n",
    "    print(f'Finally, we got {len(final_aki_code_top)} codes to maintain.')\n",
    "\n",
    "    fact = list(final_aki_code_top)\n",
    "\n",
    "    # Create a new dataframe using pivot\n",
    "    print('\\nCreating new dataframe...')\n",
    "    df_filtered = df[df[colname].isin(fact)]\n",
    "    grouped = df_filtered.groupby(['subject_id', 'hadm_id', colname])[val_colname].mean().reset_index()\n",
    "    pivot_df = grouped.pivot(index=['subject_id', 'hadm_id'], columns=colname, values=val_colname).reset_index()\n",
    "    pivot_df = pivot_df.fillna(0)\n",
    "\n",
    "    # Prompt for column name prefix\n",
    "    prefix = input('Column name prefix: ')\n",
    "\n",
    "    # Rename columns\n",
    "    new_colnames = ['value_' + prefix + '_' + str(c) for c in pivot_df.columns if c not in ['subject_id', 'hadm_id']]\n",
    "    pivot_df.columns = ['subject_id', 'hadm_id'] + new_colnames\n",
    "\n",
    "    final_df = pivot_df\n",
    "\n",
    "    return final_aki_code_top, final_df"
   ]
  },
  {
   "cell_type": "code",
   "execution_count": 37,
   "metadata": {},
   "outputs": [
    {
     "data": {
      "text/plain": [
       "Index(['subject_id', 'hadm_id', 'stay_id', 'caregiver_id', 'starttime',\n",
       "       'endtime', 'storetime', 'itemid', 'amount', 'amountuom', 'rate',\n",
       "       'rateuom', 'orderid', 'linkorderid', 'ordercategoryname',\n",
       "       'secondaryordercategoryname', 'ordercomponenttypedescription',\n",
       "       'ordercategorydescription', 'patientweight', 'totalamount',\n",
       "       'totalamountuom', 'isopenbag', 'continueinnextdept',\n",
       "       'statusdescription', 'originalamount', 'originalrate', 'aki'],\n",
       "      dtype='object')"
      ]
     },
     "execution_count": 37,
     "metadata": {},
     "output_type": "execute_result"
    }
   ],
   "source": [
    "inputevents.columns"
   ]
  },
  {
   "cell_type": "code",
   "execution_count": 39,
   "metadata": {},
   "outputs": [],
   "source": [
    "inputevents = inputevents.drop(['stay_id', 'caregiver_id', 'starttime',\n",
    "       'endtime', 'storetime','amountuom', 'rate',\n",
    "       'rateuom', 'orderid', 'linkorderid', 'ordercategoryname',\n",
    "       'secondaryordercategoryname', 'ordercomponenttypedescription',\n",
    "       'ordercategorydescription', 'patientweight', 'totalamount',\n",
    "       'totalamountuom', 'isopenbag', 'continueinnextdept',\n",
    "       'statusdescription', 'originalamount', 'originalrate'], axis= 1)"
   ]
  },
  {
   "cell_type": "code",
   "execution_count": 40,
   "metadata": {},
   "outputs": [
    {
     "data": {
      "text/plain": [
       "Index(['subject_id', 'hadm_id', 'itemid', 'amount', 'aki'], dtype='object')"
      ]
     },
     "execution_count": 40,
     "metadata": {},
     "output_type": "execute_result"
    }
   ],
   "source": [
    "inputevents.columns"
   ]
  },
  {
   "cell_type": "code",
   "execution_count": 42,
   "metadata": {},
   "outputs": [
    {
     "name": "stdout",
     "output_type": "stream",
     "text": [
      "# unique aki hadms : 24557\n",
      "# unique hadms : 63175\n",
      "Calculating p-values for every code...\n"
     ]
    },
    {
     "name": "stderr",
     "output_type": "stream",
     "text": [
      "100%|██████████| 326/326 [00:00<00:00, 6359.50it/s]"
     ]
    },
    {
     "name": "stdout",
     "output_type": "stream",
     "text": [
      "Code 225993 has 0 counts in AKI... wrong counting\n",
      "Code 226020 has 0 counts in AKI... wrong counting\n",
      "Code 226044 has 0 counts in AKI... wrong counting\n",
      "Code 227977 has 0 counts in AKI... wrong counting\n",
      "Code 228355 has 0 counts in AKI... wrong counting\n",
      "Code 228356 has 0 counts in AKI... wrong counting\n",
      "Code 228360 has 0 counts in AKI... wrong counting\n",
      "Code 228361 has 0 counts in AKI... wrong counting\n",
      "There are 248 codes with p-value < 0.05.\n",
      "# codes with count larger than mean: 68\n",
      "Finally, we got 64 codes to maintain.\n",
      "\n",
      "Creating new dataframe...\n"
     ]
    },
    {
     "name": "stderr",
     "output_type": "stream",
     "text": [
      "\n"
     ]
    }
   ],
   "source": [
    "list, data = do_everything3(inputevents, 'itemid', 'amount')"
   ]
  },
  {
   "cell_type": "code",
   "execution_count": 43,
   "metadata": {},
   "outputs": [],
   "source": [
    "data.to_csv('final_inputevents.csv', index = False)\n",
    "\n",
    "os.remove('inputevents.csv')"
   ]
  },
  {
   "cell_type": "code",
   "execution_count": null,
   "metadata": {},
   "outputs": [],
   "source": []
  }
 ],
 "metadata": {
  "kernelspec": {
   "display_name": "latest",
   "language": "python",
   "name": "python3"
  },
  "language_info": {
   "codemirror_mode": {
    "name": "ipython",
    "version": 3
   },
   "file_extension": ".py",
   "mimetype": "text/x-python",
   "name": "python",
   "nbconvert_exporter": "python",
   "pygments_lexer": "ipython3",
   "version": "3.9.7"
  }
 },
 "nbformat": 4,
 "nbformat_minor": 2
}
